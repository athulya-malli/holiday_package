{
 "cells": [
  {
   "cell_type": "markdown",
   "id": "ff8b01bd",
   "metadata": {
    "id": "awQz2xyzmaRG"
   },
   "source": [
    "Problem 2: Logistic Regression and LDA"
   ]
  },
  {
   "cell_type": "markdown",
   "id": "aaceccbf",
   "metadata": {
    "id": "JVuPPg0xmd4P"
   },
   "source": [
    "You are hired by a tour and travel agency which deals in selling holiday packages. You are provided details of 872 employees of a company. Among these employees, some opted for the package and some didn't. You have to help the company in predicting whether an employee will opt for the package or not on the basis of the information given in the data set. Also, find out the important factors on the basis of which the company will focus on particular employees to sell their packages."
   ]
  },
  {
   "cell_type": "code",
   "execution_count": 142,
   "id": "19cbfa24",
   "metadata": {
    "id": "3KB2BAPLmc8I"
   },
   "outputs": [],
   "source": [
    "df2=pd.read_csv(\"/content/drive/MyDrive/Great Learning/Predictive Modeling/Project/Holiday_Package.csv\")"
   ]
  },
  {
   "cell_type": "markdown",
   "id": "c1cfd489",
   "metadata": {
    "id": "pya4bILfm4pv"
   },
   "source": [
    "2.1 Data Ingestion: Read the dataset. Do the descriptive statistics and do null value condition check, write an inference on it. Perform Univariate and Bivariate Analysis. Do exploratory data analysis."
   ]
  },
  {
   "cell_type": "code",
   "execution_count": 143,
   "id": "db6bb016",
   "metadata": {
    "colab": {
     "base_uri": "https://localhost:8080/",
     "height": 206
    },
    "id": "BXpFv66Hm1jX",
    "outputId": "1e39f29e-0412-4ddc-8846-56909d79e9d6"
   },
   "outputs": [
    {
     "data": {
      "text/html": [
       "\n",
       "  <div id=\"df-1080ef77-a302-4a4a-bde7-e4f6dd11288f\">\n",
       "    <div class=\"colab-df-container\">\n",
       "      <div>\n",
       "<style scoped>\n",
       "    .dataframe tbody tr th:only-of-type {\n",
       "        vertical-align: middle;\n",
       "    }\n",
       "\n",
       "    .dataframe tbody tr th {\n",
       "        vertical-align: top;\n",
       "    }\n",
       "\n",
       "    .dataframe thead th {\n",
       "        text-align: right;\n",
       "    }\n",
       "</style>\n",
       "<table border=\"1\" class=\"dataframe\">\n",
       "  <thead>\n",
       "    <tr style=\"text-align: right;\">\n",
       "      <th></th>\n",
       "      <th>Unnamed: 0</th>\n",
       "      <th>Holliday_Package</th>\n",
       "      <th>Salary</th>\n",
       "      <th>age</th>\n",
       "      <th>educ</th>\n",
       "      <th>no_young_children</th>\n",
       "      <th>no_older_children</th>\n",
       "      <th>foreign</th>\n",
       "    </tr>\n",
       "  </thead>\n",
       "  <tbody>\n",
       "    <tr>\n",
       "      <th>0</th>\n",
       "      <td>1</td>\n",
       "      <td>no</td>\n",
       "      <td>48412</td>\n",
       "      <td>30</td>\n",
       "      <td>8</td>\n",
       "      <td>1</td>\n",
       "      <td>1</td>\n",
       "      <td>no</td>\n",
       "    </tr>\n",
       "    <tr>\n",
       "      <th>1</th>\n",
       "      <td>2</td>\n",
       "      <td>yes</td>\n",
       "      <td>37207</td>\n",
       "      <td>45</td>\n",
       "      <td>8</td>\n",
       "      <td>0</td>\n",
       "      <td>1</td>\n",
       "      <td>no</td>\n",
       "    </tr>\n",
       "    <tr>\n",
       "      <th>2</th>\n",
       "      <td>3</td>\n",
       "      <td>no</td>\n",
       "      <td>58022</td>\n",
       "      <td>46</td>\n",
       "      <td>9</td>\n",
       "      <td>0</td>\n",
       "      <td>0</td>\n",
       "      <td>no</td>\n",
       "    </tr>\n",
       "    <tr>\n",
       "      <th>3</th>\n",
       "      <td>4</td>\n",
       "      <td>no</td>\n",
       "      <td>66503</td>\n",
       "      <td>31</td>\n",
       "      <td>11</td>\n",
       "      <td>2</td>\n",
       "      <td>0</td>\n",
       "      <td>no</td>\n",
       "    </tr>\n",
       "    <tr>\n",
       "      <th>4</th>\n",
       "      <td>5</td>\n",
       "      <td>no</td>\n",
       "      <td>66734</td>\n",
       "      <td>44</td>\n",
       "      <td>12</td>\n",
       "      <td>0</td>\n",
       "      <td>2</td>\n",
       "      <td>no</td>\n",
       "    </tr>\n",
       "  </tbody>\n",
       "</table>\n",
       "</div>\n",
       "      <button class=\"colab-df-convert\" onclick=\"convertToInteractive('df-1080ef77-a302-4a4a-bde7-e4f6dd11288f')\"\n",
       "              title=\"Convert this dataframe to an interactive table.\"\n",
       "              style=\"display:none;\">\n",
       "        \n",
       "  <svg xmlns=\"http://www.w3.org/2000/svg\" height=\"24px\"viewBox=\"0 0 24 24\"\n",
       "       width=\"24px\">\n",
       "    <path d=\"M0 0h24v24H0V0z\" fill=\"none\"/>\n",
       "    <path d=\"M18.56 5.44l.94 2.06.94-2.06 2.06-.94-2.06-.94-.94-2.06-.94 2.06-2.06.94zm-11 1L8.5 8.5l.94-2.06 2.06-.94-2.06-.94L8.5 2.5l-.94 2.06-2.06.94zm10 10l.94 2.06.94-2.06 2.06-.94-2.06-.94-.94-2.06-.94 2.06-2.06.94z\"/><path d=\"M17.41 7.96l-1.37-1.37c-.4-.4-.92-.59-1.43-.59-.52 0-1.04.2-1.43.59L10.3 9.45l-7.72 7.72c-.78.78-.78 2.05 0 2.83L4 21.41c.39.39.9.59 1.41.59.51 0 1.02-.2 1.41-.59l7.78-7.78 2.81-2.81c.8-.78.8-2.07 0-2.86zM5.41 20L4 18.59l7.72-7.72 1.47 1.35L5.41 20z\"/>\n",
       "  </svg>\n",
       "      </button>\n",
       "      \n",
       "  <style>\n",
       "    .colab-df-container {\n",
       "      display:flex;\n",
       "      flex-wrap:wrap;\n",
       "      gap: 12px;\n",
       "    }\n",
       "\n",
       "    .colab-df-convert {\n",
       "      background-color: #E8F0FE;\n",
       "      border: none;\n",
       "      border-radius: 50%;\n",
       "      cursor: pointer;\n",
       "      display: none;\n",
       "      fill: #1967D2;\n",
       "      height: 32px;\n",
       "      padding: 0 0 0 0;\n",
       "      width: 32px;\n",
       "    }\n",
       "\n",
       "    .colab-df-convert:hover {\n",
       "      background-color: #E2EBFA;\n",
       "      box-shadow: 0px 1px 2px rgba(60, 64, 67, 0.3), 0px 1px 3px 1px rgba(60, 64, 67, 0.15);\n",
       "      fill: #174EA6;\n",
       "    }\n",
       "\n",
       "    [theme=dark] .colab-df-convert {\n",
       "      background-color: #3B4455;\n",
       "      fill: #D2E3FC;\n",
       "    }\n",
       "\n",
       "    [theme=dark] .colab-df-convert:hover {\n",
       "      background-color: #434B5C;\n",
       "      box-shadow: 0px 1px 3px 1px rgba(0, 0, 0, 0.15);\n",
       "      filter: drop-shadow(0px 1px 2px rgba(0, 0, 0, 0.3));\n",
       "      fill: #FFFFFF;\n",
       "    }\n",
       "  </style>\n",
       "\n",
       "      <script>\n",
       "        const buttonEl =\n",
       "          document.querySelector('#df-1080ef77-a302-4a4a-bde7-e4f6dd11288f button.colab-df-convert');\n",
       "        buttonEl.style.display =\n",
       "          google.colab.kernel.accessAllowed ? 'block' : 'none';\n",
       "\n",
       "        async function convertToInteractive(key) {\n",
       "          const element = document.querySelector('#df-1080ef77-a302-4a4a-bde7-e4f6dd11288f');\n",
       "          const dataTable =\n",
       "            await google.colab.kernel.invokeFunction('convertToInteractive',\n",
       "                                                     [key], {});\n",
       "          if (!dataTable) return;\n",
       "\n",
       "          const docLinkHtml = 'Like what you see? Visit the ' +\n",
       "            '<a target=\"_blank\" href=https://colab.research.google.com/notebooks/data_table.ipynb>data table notebook</a>'\n",
       "            + ' to learn more about interactive tables.';\n",
       "          element.innerHTML = '';\n",
       "          dataTable['output_type'] = 'display_data';\n",
       "          await google.colab.output.renderOutput(dataTable, element);\n",
       "          const docLink = document.createElement('div');\n",
       "          docLink.innerHTML = docLinkHtml;\n",
       "          element.appendChild(docLink);\n",
       "        }\n",
       "      </script>\n",
       "    </div>\n",
       "  </div>\n",
       "  "
      ],
      "text/plain": [
       "   Unnamed: 0 Holliday_Package  ...  no_older_children  foreign\n",
       "0           1               no  ...                  1       no\n",
       "1           2              yes  ...                  1       no\n",
       "2           3               no  ...                  0       no\n",
       "3           4               no  ...                  0       no\n",
       "4           5               no  ...                  2       no\n",
       "\n",
       "[5 rows x 8 columns]"
      ]
     },
     "execution_count": 143,
     "metadata": {},
     "output_type": "execute_result"
    }
   ],
   "source": [
    "df2.head()"
   ]
  },
  {
   "cell_type": "code",
   "execution_count": 144,
   "id": "0dc0eab2",
   "metadata": {
    "colab": {
     "base_uri": "https://localhost:8080/"
    },
    "id": "WGngRMR7m8Ie",
    "outputId": "d965c00c-8177-4578-c944-fb56d320daad"
   },
   "outputs": [
    {
     "name": "stdout",
     "output_type": "stream",
     "text": [
      "<class 'pandas.core.frame.DataFrame'>\n",
      "RangeIndex: 872 entries, 0 to 871\n",
      "Data columns (total 8 columns):\n",
      " #   Column             Non-Null Count  Dtype \n",
      "---  ------             --------------  ----- \n",
      " 0   Unnamed: 0         872 non-null    int64 \n",
      " 1   Holliday_Package   872 non-null    object\n",
      " 2   Salary             872 non-null    int64 \n",
      " 3   age                872 non-null    int64 \n",
      " 4   educ               872 non-null    int64 \n",
      " 5   no_young_children  872 non-null    int64 \n",
      " 6   no_older_children  872 non-null    int64 \n",
      " 7   foreign            872 non-null    object\n",
      "dtypes: int64(6), object(2)\n",
      "memory usage: 54.6+ KB\n"
     ]
    }
   ],
   "source": [
    "df2.info()"
   ]
  },
  {
   "cell_type": "code",
   "execution_count": 145,
   "id": "8bb6bcd4",
   "metadata": {
    "colab": {
     "base_uri": "https://localhost:8080/"
    },
    "id": "A5db2MD3m9e6",
    "outputId": "ccb23e11-e284-484e-88e7-28fb58d791b4"
   },
   "outputs": [
    {
     "data": {
      "text/plain": [
       "Unnamed: 0            int64\n",
       "Holliday_Package     object\n",
       "Salary                int64\n",
       "age                   int64\n",
       "educ                  int64\n",
       "no_young_children     int64\n",
       "no_older_children     int64\n",
       "foreign              object\n",
       "dtype: object"
      ]
     },
     "execution_count": 145,
     "metadata": {},
     "output_type": "execute_result"
    }
   ],
   "source": [
    "df2.dtypes"
   ]
  },
  {
   "cell_type": "code",
   "execution_count": 146,
   "id": "c47a0b39",
   "metadata": {
    "colab": {
     "base_uri": "https://localhost:8080/"
    },
    "id": "qDz-XuN3nEvY",
    "outputId": "3369c133-6d8d-4d6e-8dce-26c865839417"
   },
   "outputs": [
    {
     "data": {
      "text/plain": [
       "(872, 8)"
      ]
     },
     "execution_count": 146,
     "metadata": {},
     "output_type": "execute_result"
    }
   ],
   "source": [
    "df2.shape"
   ]
  },
  {
   "cell_type": "code",
   "execution_count": 147,
   "id": "5a51f5a0",
   "metadata": {
    "colab": {
     "base_uri": "https://localhost:8080/"
    },
    "id": "NNrearN3nGef",
    "outputId": "58145b2f-ba76-4fdc-f3fb-07c2b0c8c781"
   },
   "outputs": [
    {
     "data": {
      "text/plain": [
       "Unnamed: 0           0\n",
       "Holliday_Package     0\n",
       "Salary               0\n",
       "age                  0\n",
       "educ                 0\n",
       "no_young_children    0\n",
       "no_older_children    0\n",
       "foreign              0\n",
       "dtype: int64"
      ]
     },
     "execution_count": 147,
     "metadata": {},
     "output_type": "execute_result"
    }
   ],
   "source": [
    "df2.isnull().sum()"
   ]
  },
  {
   "cell_type": "code",
   "execution_count": 148,
   "id": "66f82985",
   "metadata": {
    "colab": {
     "base_uri": "https://localhost:8080/",
     "height": 300
    },
    "id": "_-xGfm-onIFz",
    "outputId": "ada504bb-4878-422f-b496-e15c22e70a8d"
   },
   "outputs": [
    {
     "data": {
      "text/html": [
       "\n",
       "  <div id=\"df-0062c8c7-6d95-4e1b-95f3-51d36819f5a8\">\n",
       "    <div class=\"colab-df-container\">\n",
       "      <div>\n",
       "<style scoped>\n",
       "    .dataframe tbody tr th:only-of-type {\n",
       "        vertical-align: middle;\n",
       "    }\n",
       "\n",
       "    .dataframe tbody tr th {\n",
       "        vertical-align: top;\n",
       "    }\n",
       "\n",
       "    .dataframe thead th {\n",
       "        text-align: right;\n",
       "    }\n",
       "</style>\n",
       "<table border=\"1\" class=\"dataframe\">\n",
       "  <thead>\n",
       "    <tr style=\"text-align: right;\">\n",
       "      <th></th>\n",
       "      <th>Unnamed: 0</th>\n",
       "      <th>Salary</th>\n",
       "      <th>age</th>\n",
       "      <th>educ</th>\n",
       "      <th>no_young_children</th>\n",
       "      <th>no_older_children</th>\n",
       "    </tr>\n",
       "  </thead>\n",
       "  <tbody>\n",
       "    <tr>\n",
       "      <th>count</th>\n",
       "      <td>872.000000</td>\n",
       "      <td>872.000000</td>\n",
       "      <td>872.000000</td>\n",
       "      <td>872.000000</td>\n",
       "      <td>872.000000</td>\n",
       "      <td>872.000000</td>\n",
       "    </tr>\n",
       "    <tr>\n",
       "      <th>mean</th>\n",
       "      <td>436.500000</td>\n",
       "      <td>47729.172018</td>\n",
       "      <td>39.955275</td>\n",
       "      <td>9.307339</td>\n",
       "      <td>0.311927</td>\n",
       "      <td>0.982798</td>\n",
       "    </tr>\n",
       "    <tr>\n",
       "      <th>std</th>\n",
       "      <td>251.869014</td>\n",
       "      <td>23418.668531</td>\n",
       "      <td>10.551675</td>\n",
       "      <td>3.036259</td>\n",
       "      <td>0.612870</td>\n",
       "      <td>1.086786</td>\n",
       "    </tr>\n",
       "    <tr>\n",
       "      <th>min</th>\n",
       "      <td>1.000000</td>\n",
       "      <td>1322.000000</td>\n",
       "      <td>20.000000</td>\n",
       "      <td>1.000000</td>\n",
       "      <td>0.000000</td>\n",
       "      <td>0.000000</td>\n",
       "    </tr>\n",
       "    <tr>\n",
       "      <th>25%</th>\n",
       "      <td>218.750000</td>\n",
       "      <td>35324.000000</td>\n",
       "      <td>32.000000</td>\n",
       "      <td>8.000000</td>\n",
       "      <td>0.000000</td>\n",
       "      <td>0.000000</td>\n",
       "    </tr>\n",
       "    <tr>\n",
       "      <th>50%</th>\n",
       "      <td>436.500000</td>\n",
       "      <td>41903.500000</td>\n",
       "      <td>39.000000</td>\n",
       "      <td>9.000000</td>\n",
       "      <td>0.000000</td>\n",
       "      <td>1.000000</td>\n",
       "    </tr>\n",
       "    <tr>\n",
       "      <th>75%</th>\n",
       "      <td>654.250000</td>\n",
       "      <td>53469.500000</td>\n",
       "      <td>48.000000</td>\n",
       "      <td>12.000000</td>\n",
       "      <td>0.000000</td>\n",
       "      <td>2.000000</td>\n",
       "    </tr>\n",
       "    <tr>\n",
       "      <th>max</th>\n",
       "      <td>872.000000</td>\n",
       "      <td>236961.000000</td>\n",
       "      <td>62.000000</td>\n",
       "      <td>21.000000</td>\n",
       "      <td>3.000000</td>\n",
       "      <td>6.000000</td>\n",
       "    </tr>\n",
       "  </tbody>\n",
       "</table>\n",
       "</div>\n",
       "      <button class=\"colab-df-convert\" onclick=\"convertToInteractive('df-0062c8c7-6d95-4e1b-95f3-51d36819f5a8')\"\n",
       "              title=\"Convert this dataframe to an interactive table.\"\n",
       "              style=\"display:none;\">\n",
       "        \n",
       "  <svg xmlns=\"http://www.w3.org/2000/svg\" height=\"24px\"viewBox=\"0 0 24 24\"\n",
       "       width=\"24px\">\n",
       "    <path d=\"M0 0h24v24H0V0z\" fill=\"none\"/>\n",
       "    <path d=\"M18.56 5.44l.94 2.06.94-2.06 2.06-.94-2.06-.94-.94-2.06-.94 2.06-2.06.94zm-11 1L8.5 8.5l.94-2.06 2.06-.94-2.06-.94L8.5 2.5l-.94 2.06-2.06.94zm10 10l.94 2.06.94-2.06 2.06-.94-2.06-.94-.94-2.06-.94 2.06-2.06.94z\"/><path d=\"M17.41 7.96l-1.37-1.37c-.4-.4-.92-.59-1.43-.59-.52 0-1.04.2-1.43.59L10.3 9.45l-7.72 7.72c-.78.78-.78 2.05 0 2.83L4 21.41c.39.39.9.59 1.41.59.51 0 1.02-.2 1.41-.59l7.78-7.78 2.81-2.81c.8-.78.8-2.07 0-2.86zM5.41 20L4 18.59l7.72-7.72 1.47 1.35L5.41 20z\"/>\n",
       "  </svg>\n",
       "      </button>\n",
       "      \n",
       "  <style>\n",
       "    .colab-df-container {\n",
       "      display:flex;\n",
       "      flex-wrap:wrap;\n",
       "      gap: 12px;\n",
       "    }\n",
       "\n",
       "    .colab-df-convert {\n",
       "      background-color: #E8F0FE;\n",
       "      border: none;\n",
       "      border-radius: 50%;\n",
       "      cursor: pointer;\n",
       "      display: none;\n",
       "      fill: #1967D2;\n",
       "      height: 32px;\n",
       "      padding: 0 0 0 0;\n",
       "      width: 32px;\n",
       "    }\n",
       "\n",
       "    .colab-df-convert:hover {\n",
       "      background-color: #E2EBFA;\n",
       "      box-shadow: 0px 1px 2px rgba(60, 64, 67, 0.3), 0px 1px 3px 1px rgba(60, 64, 67, 0.15);\n",
       "      fill: #174EA6;\n",
       "    }\n",
       "\n",
       "    [theme=dark] .colab-df-convert {\n",
       "      background-color: #3B4455;\n",
       "      fill: #D2E3FC;\n",
       "    }\n",
       "\n",
       "    [theme=dark] .colab-df-convert:hover {\n",
       "      background-color: #434B5C;\n",
       "      box-shadow: 0px 1px 3px 1px rgba(0, 0, 0, 0.15);\n",
       "      filter: drop-shadow(0px 1px 2px rgba(0, 0, 0, 0.3));\n",
       "      fill: #FFFFFF;\n",
       "    }\n",
       "  </style>\n",
       "\n",
       "      <script>\n",
       "        const buttonEl =\n",
       "          document.querySelector('#df-0062c8c7-6d95-4e1b-95f3-51d36819f5a8 button.colab-df-convert');\n",
       "        buttonEl.style.display =\n",
       "          google.colab.kernel.accessAllowed ? 'block' : 'none';\n",
       "\n",
       "        async function convertToInteractive(key) {\n",
       "          const element = document.querySelector('#df-0062c8c7-6d95-4e1b-95f3-51d36819f5a8');\n",
       "          const dataTable =\n",
       "            await google.colab.kernel.invokeFunction('convertToInteractive',\n",
       "                                                     [key], {});\n",
       "          if (!dataTable) return;\n",
       "\n",
       "          const docLinkHtml = 'Like what you see? Visit the ' +\n",
       "            '<a target=\"_blank\" href=https://colab.research.google.com/notebooks/data_table.ipynb>data table notebook</a>'\n",
       "            + ' to learn more about interactive tables.';\n",
       "          element.innerHTML = '';\n",
       "          dataTable['output_type'] = 'display_data';\n",
       "          await google.colab.output.renderOutput(dataTable, element);\n",
       "          const docLink = document.createElement('div');\n",
       "          docLink.innerHTML = docLinkHtml;\n",
       "          element.appendChild(docLink);\n",
       "        }\n",
       "      </script>\n",
       "    </div>\n",
       "  </div>\n",
       "  "
      ],
      "text/plain": [
       "       Unnamed: 0         Salary  ...  no_young_children  no_older_children\n",
       "count  872.000000     872.000000  ...         872.000000         872.000000\n",
       "mean   436.500000   47729.172018  ...           0.311927           0.982798\n",
       "std    251.869014   23418.668531  ...           0.612870           1.086786\n",
       "min      1.000000    1322.000000  ...           0.000000           0.000000\n",
       "25%    218.750000   35324.000000  ...           0.000000           0.000000\n",
       "50%    436.500000   41903.500000  ...           0.000000           1.000000\n",
       "75%    654.250000   53469.500000  ...           0.000000           2.000000\n",
       "max    872.000000  236961.000000  ...           3.000000           6.000000\n",
       "\n",
       "[8 rows x 6 columns]"
      ]
     },
     "execution_count": 148,
     "metadata": {},
     "output_type": "execute_result"
    }
   ],
   "source": [
    "df2.describe()"
   ]
  },
  {
   "cell_type": "code",
   "execution_count": 149,
   "id": "21a8d2ee",
   "metadata": {
    "id": "h5kyKBo9OXOo"
   },
   "outputs": [],
   "source": [
    "df2.drop([\"Unnamed: 0\"],axis=1,inplace=True)"
   ]
  },
  {
   "cell_type": "code",
   "execution_count": 150,
   "id": "77fc0660",
   "metadata": {
    "colab": {
     "base_uri": "https://localhost:8080/"
    },
    "id": "O-Rfv0g8UXao",
    "outputId": "5d46bda0-7c3b-4e6d-e0b3-2eafbaa7160c"
   },
   "outputs": [
    {
     "data": {
      "text/plain": [
       "0"
      ]
     },
     "execution_count": 150,
     "metadata": {},
     "output_type": "execute_result"
    }
   ],
   "source": [
    "df2.duplicated().sum()"
   ]
  },
  {
   "cell_type": "code",
   "execution_count": 151,
   "id": "e4520742",
   "metadata": {
    "colab": {
     "base_uri": "https://localhost:8080/",
     "height": 300
    },
    "id": "2pjwI5ifOfZW",
    "outputId": "cf45d915-7237-4b4f-9eac-35d0b5b8c46f"
   },
   "outputs": [
    {
     "data": {
      "text/html": [
       "\n",
       "  <div id=\"df-5325fc01-36e0-4c24-999a-2bf70a7ae793\">\n",
       "    <div class=\"colab-df-container\">\n",
       "      <div>\n",
       "<style scoped>\n",
       "    .dataframe tbody tr th:only-of-type {\n",
       "        vertical-align: middle;\n",
       "    }\n",
       "\n",
       "    .dataframe tbody tr th {\n",
       "        vertical-align: top;\n",
       "    }\n",
       "\n",
       "    .dataframe thead th {\n",
       "        text-align: right;\n",
       "    }\n",
       "</style>\n",
       "<table border=\"1\" class=\"dataframe\">\n",
       "  <thead>\n",
       "    <tr style=\"text-align: right;\">\n",
       "      <th></th>\n",
       "      <th>Salary</th>\n",
       "      <th>age</th>\n",
       "      <th>educ</th>\n",
       "      <th>no_young_children</th>\n",
       "      <th>no_older_children</th>\n",
       "    </tr>\n",
       "  </thead>\n",
       "  <tbody>\n",
       "    <tr>\n",
       "      <th>count</th>\n",
       "      <td>872.000000</td>\n",
       "      <td>872.000000</td>\n",
       "      <td>872.000000</td>\n",
       "      <td>872.000000</td>\n",
       "      <td>872.000000</td>\n",
       "    </tr>\n",
       "    <tr>\n",
       "      <th>mean</th>\n",
       "      <td>47729.172018</td>\n",
       "      <td>39.955275</td>\n",
       "      <td>9.307339</td>\n",
       "      <td>0.311927</td>\n",
       "      <td>0.982798</td>\n",
       "    </tr>\n",
       "    <tr>\n",
       "      <th>std</th>\n",
       "      <td>23418.668531</td>\n",
       "      <td>10.551675</td>\n",
       "      <td>3.036259</td>\n",
       "      <td>0.612870</td>\n",
       "      <td>1.086786</td>\n",
       "    </tr>\n",
       "    <tr>\n",
       "      <th>min</th>\n",
       "      <td>1322.000000</td>\n",
       "      <td>20.000000</td>\n",
       "      <td>1.000000</td>\n",
       "      <td>0.000000</td>\n",
       "      <td>0.000000</td>\n",
       "    </tr>\n",
       "    <tr>\n",
       "      <th>25%</th>\n",
       "      <td>35324.000000</td>\n",
       "      <td>32.000000</td>\n",
       "      <td>8.000000</td>\n",
       "      <td>0.000000</td>\n",
       "      <td>0.000000</td>\n",
       "    </tr>\n",
       "    <tr>\n",
       "      <th>50%</th>\n",
       "      <td>41903.500000</td>\n",
       "      <td>39.000000</td>\n",
       "      <td>9.000000</td>\n",
       "      <td>0.000000</td>\n",
       "      <td>1.000000</td>\n",
       "    </tr>\n",
       "    <tr>\n",
       "      <th>75%</th>\n",
       "      <td>53469.500000</td>\n",
       "      <td>48.000000</td>\n",
       "      <td>12.000000</td>\n",
       "      <td>0.000000</td>\n",
       "      <td>2.000000</td>\n",
       "    </tr>\n",
       "    <tr>\n",
       "      <th>max</th>\n",
       "      <td>236961.000000</td>\n",
       "      <td>62.000000</td>\n",
       "      <td>21.000000</td>\n",
       "      <td>3.000000</td>\n",
       "      <td>6.000000</td>\n",
       "    </tr>\n",
       "  </tbody>\n",
       "</table>\n",
       "</div>\n",
       "      <button class=\"colab-df-convert\" onclick=\"convertToInteractive('df-5325fc01-36e0-4c24-999a-2bf70a7ae793')\"\n",
       "              title=\"Convert this dataframe to an interactive table.\"\n",
       "              style=\"display:none;\">\n",
       "        \n",
       "  <svg xmlns=\"http://www.w3.org/2000/svg\" height=\"24px\"viewBox=\"0 0 24 24\"\n",
       "       width=\"24px\">\n",
       "    <path d=\"M0 0h24v24H0V0z\" fill=\"none\"/>\n",
       "    <path d=\"M18.56 5.44l.94 2.06.94-2.06 2.06-.94-2.06-.94-.94-2.06-.94 2.06-2.06.94zm-11 1L8.5 8.5l.94-2.06 2.06-.94-2.06-.94L8.5 2.5l-.94 2.06-2.06.94zm10 10l.94 2.06.94-2.06 2.06-.94-2.06-.94-.94-2.06-.94 2.06-2.06.94z\"/><path d=\"M17.41 7.96l-1.37-1.37c-.4-.4-.92-.59-1.43-.59-.52 0-1.04.2-1.43.59L10.3 9.45l-7.72 7.72c-.78.78-.78 2.05 0 2.83L4 21.41c.39.39.9.59 1.41.59.51 0 1.02-.2 1.41-.59l7.78-7.78 2.81-2.81c.8-.78.8-2.07 0-2.86zM5.41 20L4 18.59l7.72-7.72 1.47 1.35L5.41 20z\"/>\n",
       "  </svg>\n",
       "      </button>\n",
       "      \n",
       "  <style>\n",
       "    .colab-df-container {\n",
       "      display:flex;\n",
       "      flex-wrap:wrap;\n",
       "      gap: 12px;\n",
       "    }\n",
       "\n",
       "    .colab-df-convert {\n",
       "      background-color: #E8F0FE;\n",
       "      border: none;\n",
       "      border-radius: 50%;\n",
       "      cursor: pointer;\n",
       "      display: none;\n",
       "      fill: #1967D2;\n",
       "      height: 32px;\n",
       "      padding: 0 0 0 0;\n",
       "      width: 32px;\n",
       "    }\n",
       "\n",
       "    .colab-df-convert:hover {\n",
       "      background-color: #E2EBFA;\n",
       "      box-shadow: 0px 1px 2px rgba(60, 64, 67, 0.3), 0px 1px 3px 1px rgba(60, 64, 67, 0.15);\n",
       "      fill: #174EA6;\n",
       "    }\n",
       "\n",
       "    [theme=dark] .colab-df-convert {\n",
       "      background-color: #3B4455;\n",
       "      fill: #D2E3FC;\n",
       "    }\n",
       "\n",
       "    [theme=dark] .colab-df-convert:hover {\n",
       "      background-color: #434B5C;\n",
       "      box-shadow: 0px 1px 3px 1px rgba(0, 0, 0, 0.15);\n",
       "      filter: drop-shadow(0px 1px 2px rgba(0, 0, 0, 0.3));\n",
       "      fill: #FFFFFF;\n",
       "    }\n",
       "  </style>\n",
       "\n",
       "      <script>\n",
       "        const buttonEl =\n",
       "          document.querySelector('#df-5325fc01-36e0-4c24-999a-2bf70a7ae793 button.colab-df-convert');\n",
       "        buttonEl.style.display =\n",
       "          google.colab.kernel.accessAllowed ? 'block' : 'none';\n",
       "\n",
       "        async function convertToInteractive(key) {\n",
       "          const element = document.querySelector('#df-5325fc01-36e0-4c24-999a-2bf70a7ae793');\n",
       "          const dataTable =\n",
       "            await google.colab.kernel.invokeFunction('convertToInteractive',\n",
       "                                                     [key], {});\n",
       "          if (!dataTable) return;\n",
       "\n",
       "          const docLinkHtml = 'Like what you see? Visit the ' +\n",
       "            '<a target=\"_blank\" href=https://colab.research.google.com/notebooks/data_table.ipynb>data table notebook</a>'\n",
       "            + ' to learn more about interactive tables.';\n",
       "          element.innerHTML = '';\n",
       "          dataTable['output_type'] = 'display_data';\n",
       "          await google.colab.output.renderOutput(dataTable, element);\n",
       "          const docLink = document.createElement('div');\n",
       "          docLink.innerHTML = docLinkHtml;\n",
       "          element.appendChild(docLink);\n",
       "        }\n",
       "      </script>\n",
       "    </div>\n",
       "  </div>\n",
       "  "
      ],
      "text/plain": [
       "              Salary         age  ...  no_young_children  no_older_children\n",
       "count     872.000000  872.000000  ...         872.000000         872.000000\n",
       "mean    47729.172018   39.955275  ...           0.311927           0.982798\n",
       "std     23418.668531   10.551675  ...           0.612870           1.086786\n",
       "min      1322.000000   20.000000  ...           0.000000           0.000000\n",
       "25%     35324.000000   32.000000  ...           0.000000           0.000000\n",
       "50%     41903.500000   39.000000  ...           0.000000           1.000000\n",
       "75%     53469.500000   48.000000  ...           0.000000           2.000000\n",
       "max    236961.000000   62.000000  ...           3.000000           6.000000\n",
       "\n",
       "[8 rows x 5 columns]"
      ]
     },
     "execution_count": 151,
     "metadata": {},
     "output_type": "execute_result"
    }
   ],
   "source": [
    "df2.describe()"
   ]
  },
  {
   "cell_type": "code",
   "execution_count": 152,
   "id": "0c237c1b",
   "metadata": {
    "colab": {
     "base_uri": "https://localhost:8080/"
    },
    "id": "k68LxMNNHKpC",
    "outputId": "65cb462b-f512-4802-8647-33d364ac807a"
   },
   "outputs": [
    {
     "data": {
      "text/plain": [
       "(872, 7)"
      ]
     },
     "execution_count": 152,
     "metadata": {},
     "output_type": "execute_result"
    }
   ],
   "source": [
    "df2.shape"
   ]
  },
  {
   "cell_type": "markdown",
   "id": "d27ac334",
   "metadata": {
    "id": "CJ6ZhfQfnLHN"
   },
   "source": [
    "Univariate Analysis"
   ]
  },
  {
   "cell_type": "code",
   "execution_count": 153,
   "id": "d2548050",
   "metadata": {
    "id": "Z75NEdYpnJ8G"
   },
   "outputs": [],
   "source": [
    "def univariateAnalysis_numeric(column,nbins):\n",
    "    print(\"Description of \" + column)\n",
    "    print(\"----------------------------------------------------------------------------\")\n",
    "    print(df2[column].describe(),end=' ')\n",
    "    \n",
    "    \n",
    "    plt.figure()\n",
    "    print(\"Distribution of \" + column)\n",
    "    print(\"----------------------------------------------------------------------------\")\n",
    "    sns.distplot(df2[column], kde=True);\n",
    "    plt.title(\"Distribution of \" + column,fontsize=10)\n",
    "    plt.show()\n",
    "    \n",
    "    plt.figure()\n",
    "    print(\"BoxPlot of \" + column)\n",
    "    print(\"----------------------------------------------------------------------------\")\n",
    "    ax = sns.boxplot(x=df2[column], orient = \"v\")\n",
    "    plt.title(\"Boxplot of \" + column,fontsize=10)\n",
    "    plt.show()\n",
    "    \n",
    "    plt.figure()\n",
    "    print(\"Histogram of \" + column)\n",
    "    print(\"----------------------------------------------------------------------------\")\n",
    "    ax1 = plt.hist(x=df2[column])\n",
    "    plt.title(\"Histogram of \" + column,fontsize=10)\n",
    "    plt.xlabel(\"\" + column, fontsize=10)\n",
    "    plt.show()"
   ]
  },
  {
   "cell_type": "code",
   "execution_count": 154,
   "id": "f0c54095",
   "metadata": {
    "colab": {
     "base_uri": "https://localhost:8080/"
    },
    "id": "JUSVE10AnOSV",
    "outputId": "589e859f-7889-4b22-c0b6-a712b931b928"
   },
   "outputs": [
    {
     "data": {
      "text/plain": [
       "5"
      ]
     },
     "execution_count": 154,
     "metadata": {},
     "output_type": "execute_result"
    }
   ],
   "source": [
    "df2_num = df2.select_dtypes(include = ['float64', 'int64'])\n",
    "lstnumericcolumns2 = list(df2_num.columns.values)\n",
    "len(lstnumericcolumns2)"
   ]
  },
  {
   "cell_type": "code",
   "execution_count": 155,
   "id": "842d749c",
   "metadata": {
    "colab": {
     "base_uri": "https://localhost:8080/",
     "height": 206
    },
    "id": "X8F9ZoANnPsx",
    "outputId": "c0a0af70-d36d-4f63-eb78-64dc736cb1cc"
   },
   "outputs": [
    {
     "data": {
      "text/html": [
       "\n",
       "  <div id=\"df-fd6cf49f-b637-47fb-b697-35b93efbb3ee\">\n",
       "    <div class=\"colab-df-container\">\n",
       "      <div>\n",
       "<style scoped>\n",
       "    .dataframe tbody tr th:only-of-type {\n",
       "        vertical-align: middle;\n",
       "    }\n",
       "\n",
       "    .dataframe tbody tr th {\n",
       "        vertical-align: top;\n",
       "    }\n",
       "\n",
       "    .dataframe thead th {\n",
       "        text-align: right;\n",
       "    }\n",
       "</style>\n",
       "<table border=\"1\" class=\"dataframe\">\n",
       "  <thead>\n",
       "    <tr style=\"text-align: right;\">\n",
       "      <th></th>\n",
       "      <th>Salary</th>\n",
       "      <th>age</th>\n",
       "      <th>educ</th>\n",
       "      <th>no_young_children</th>\n",
       "      <th>no_older_children</th>\n",
       "    </tr>\n",
       "  </thead>\n",
       "  <tbody>\n",
       "    <tr>\n",
       "      <th>0</th>\n",
       "      <td>48412</td>\n",
       "      <td>30</td>\n",
       "      <td>8</td>\n",
       "      <td>1</td>\n",
       "      <td>1</td>\n",
       "    </tr>\n",
       "    <tr>\n",
       "      <th>1</th>\n",
       "      <td>37207</td>\n",
       "      <td>45</td>\n",
       "      <td>8</td>\n",
       "      <td>0</td>\n",
       "      <td>1</td>\n",
       "    </tr>\n",
       "    <tr>\n",
       "      <th>2</th>\n",
       "      <td>58022</td>\n",
       "      <td>46</td>\n",
       "      <td>9</td>\n",
       "      <td>0</td>\n",
       "      <td>0</td>\n",
       "    </tr>\n",
       "    <tr>\n",
       "      <th>3</th>\n",
       "      <td>66503</td>\n",
       "      <td>31</td>\n",
       "      <td>11</td>\n",
       "      <td>2</td>\n",
       "      <td>0</td>\n",
       "    </tr>\n",
       "    <tr>\n",
       "      <th>4</th>\n",
       "      <td>66734</td>\n",
       "      <td>44</td>\n",
       "      <td>12</td>\n",
       "      <td>0</td>\n",
       "      <td>2</td>\n",
       "    </tr>\n",
       "  </tbody>\n",
       "</table>\n",
       "</div>\n",
       "      <button class=\"colab-df-convert\" onclick=\"convertToInteractive('df-fd6cf49f-b637-47fb-b697-35b93efbb3ee')\"\n",
       "              title=\"Convert this dataframe to an interactive table.\"\n",
       "              style=\"display:none;\">\n",
       "        \n",
       "  <svg xmlns=\"http://www.w3.org/2000/svg\" height=\"24px\"viewBox=\"0 0 24 24\"\n",
       "       width=\"24px\">\n",
       "    <path d=\"M0 0h24v24H0V0z\" fill=\"none\"/>\n",
       "    <path d=\"M18.56 5.44l.94 2.06.94-2.06 2.06-.94-2.06-.94-.94-2.06-.94 2.06-2.06.94zm-11 1L8.5 8.5l.94-2.06 2.06-.94-2.06-.94L8.5 2.5l-.94 2.06-2.06.94zm10 10l.94 2.06.94-2.06 2.06-.94-2.06-.94-.94-2.06-.94 2.06-2.06.94z\"/><path d=\"M17.41 7.96l-1.37-1.37c-.4-.4-.92-.59-1.43-.59-.52 0-1.04.2-1.43.59L10.3 9.45l-7.72 7.72c-.78.78-.78 2.05 0 2.83L4 21.41c.39.39.9.59 1.41.59.51 0 1.02-.2 1.41-.59l7.78-7.78 2.81-2.81c.8-.78.8-2.07 0-2.86zM5.41 20L4 18.59l7.72-7.72 1.47 1.35L5.41 20z\"/>\n",
       "  </svg>\n",
       "      </button>\n",
       "      \n",
       "  <style>\n",
       "    .colab-df-container {\n",
       "      display:flex;\n",
       "      flex-wrap:wrap;\n",
       "      gap: 12px;\n",
       "    }\n",
       "\n",
       "    .colab-df-convert {\n",
       "      background-color: #E8F0FE;\n",
       "      border: none;\n",
       "      border-radius: 50%;\n",
       "      cursor: pointer;\n",
       "      display: none;\n",
       "      fill: #1967D2;\n",
       "      height: 32px;\n",
       "      padding: 0 0 0 0;\n",
       "      width: 32px;\n",
       "    }\n",
       "\n",
       "    .colab-df-convert:hover {\n",
       "      background-color: #E2EBFA;\n",
       "      box-shadow: 0px 1px 2px rgba(60, 64, 67, 0.3), 0px 1px 3px 1px rgba(60, 64, 67, 0.15);\n",
       "      fill: #174EA6;\n",
       "    }\n",
       "\n",
       "    [theme=dark] .colab-df-convert {\n",
       "      background-color: #3B4455;\n",
       "      fill: #D2E3FC;\n",
       "    }\n",
       "\n",
       "    [theme=dark] .colab-df-convert:hover {\n",
       "      background-color: #434B5C;\n",
       "      box-shadow: 0px 1px 3px 1px rgba(0, 0, 0, 0.15);\n",
       "      filter: drop-shadow(0px 1px 2px rgba(0, 0, 0, 0.3));\n",
       "      fill: #FFFFFF;\n",
       "    }\n",
       "  </style>\n",
       "\n",
       "      <script>\n",
       "        const buttonEl =\n",
       "          document.querySelector('#df-fd6cf49f-b637-47fb-b697-35b93efbb3ee button.colab-df-convert');\n",
       "        buttonEl.style.display =\n",
       "          google.colab.kernel.accessAllowed ? 'block' : 'none';\n",
       "\n",
       "        async function convertToInteractive(key) {\n",
       "          const element = document.querySelector('#df-fd6cf49f-b637-47fb-b697-35b93efbb3ee');\n",
       "          const dataTable =\n",
       "            await google.colab.kernel.invokeFunction('convertToInteractive',\n",
       "                                                     [key], {});\n",
       "          if (!dataTable) return;\n",
       "\n",
       "          const docLinkHtml = 'Like what you see? Visit the ' +\n",
       "            '<a target=\"_blank\" href=https://colab.research.google.com/notebooks/data_table.ipynb>data table notebook</a>'\n",
       "            + ' to learn more about interactive tables.';\n",
       "          element.innerHTML = '';\n",
       "          dataTable['output_type'] = 'display_data';\n",
       "          await google.colab.output.renderOutput(dataTable, element);\n",
       "          const docLink = document.createElement('div');\n",
       "          docLink.innerHTML = docLinkHtml;\n",
       "          element.appendChild(docLink);\n",
       "        }\n",
       "      </script>\n",
       "    </div>\n",
       "  </div>\n",
       "  "
      ],
      "text/plain": [
       "   Salary  age  educ  no_young_children  no_older_children\n",
       "0   48412   30     8                  1                  1\n",
       "1   37207   45     8                  0                  1\n",
       "2   58022   46     9                  0                  0\n",
       "3   66503   31    11                  2                  0\n",
       "4   66734   44    12                  0                  2"
      ]
     },
     "execution_count": 155,
     "metadata": {},
     "output_type": "execute_result"
    }
   ],
   "source": [
    "df2_num.head()"
   ]
  },
  {
   "cell_type": "code",
   "execution_count": 156,
   "id": "c1f83353",
   "metadata": {
    "colab": {
     "base_uri": "https://localhost:8080/"
    },
    "id": "q9C09uYDnRW4",
    "outputId": "854d5f75-c84c-4dbd-e56e-4d153fc81e6a"
   },
   "outputs": [
    {
     "data": {
      "text/plain": [
       "Salary               3.103216\n",
       "no_young_children    1.946515\n",
       "no_older_children    0.953951\n",
       "age                  0.146412\n",
       "educ                -0.045501\n",
       "dtype: float64"
      ]
     },
     "execution_count": 156,
     "metadata": {},
     "output_type": "execute_result"
    }
   ],
   "source": [
    "df2.skew(axis = 0, skipna = True).sort_values(ascending=False)"
   ]
  },
  {
   "cell_type": "code",
   "execution_count": 157,
   "id": "bc0724cb",
   "metadata": {
    "colab": {
     "base_uri": "https://localhost:8080/",
     "height": 1000
    },
    "id": "J5Gp0n7TnSkR",
    "outputId": "deb4bb5f-ff54-400e-e970-8df809faa57e"
   },
   "outputs": [
    {
     "name": "stdout",
     "output_type": "stream",
     "text": [
      "Description of Salary\n",
      "----------------------------------------------------------------------------\n",
      "count       872.000000\n",
      "mean      47729.172018\n",
      "std       23418.668531\n",
      "min        1322.000000\n",
      "25%       35324.000000\n",
      "50%       41903.500000\n",
      "75%       53469.500000\n",
      "max      236961.000000\n",
      "Name: Salary, dtype: float64 Distribution of Salary\n",
      "----------------------------------------------------------------------------\n"
     ]
    },
    {
     "name": "stderr",
     "output_type": "stream",
     "text": [
      "/usr/local/lib/python3.7/dist-packages/seaborn/distributions.py:2619: FutureWarning: `distplot` is a deprecated function and will be removed in a future version. Please adapt your code to use either `displot` (a figure-level function with similar flexibility) or `histplot` (an axes-level function for histograms).\n",
      "  warnings.warn(msg, FutureWarning)\n"
     ]
    },
    {
     "data": {
      "image/png": "[encoded data removed]",
      "text/plain": [
       "<Figure size 432x288 with 1 Axes>"
      ]
     },
     "metadata": {
      "needs_background": "light"
     },
     "output_type": "display_data"
    },
    {
     "name": "stdout",
     "output_type": "stream",
     "text": [
      "BoxPlot of Salary\n",
      "----------------------------------------------------------------------------\n"
     ]
    },
    {
     "name": "stderr",
     "output_type": "stream",
     "text": [
      "/usr/local/lib/python3.7/dist-packages/seaborn/_core.py:1326: UserWarning: Vertical orientation ignored with only `x` specified.\n",
      "  warnings.warn(single_var_warning.format(\"Vertical\", \"x\"))\n"
     ]
    },
    {
     "data": {
      "image/png": "[encoded data removed]",
      "text/plain": [
       "<Figure size 432x288 with 1 Axes>"
      ]
     },
     "metadata": {
      "needs_background": "light"
     },
     "output_type": "display_data"
    },
    {
     "name": "stdout",
     "output_type": "stream",
     "text": [
      "Histogram of Salary\n",
      "----------------------------------------------------------------------------\n"
     ]
    },
    {
     "data": {
      "image/png": "[encoded data removed]",
      "text/plain": [
       "<Figure size 432x288 with 1 Axes>"
      ]
     },
     "metadata": {
      "needs_background": "light"
     },
     "output_type": "display_data"
    },
    {
     "name": "stdout",
     "output_type": "stream",
     "text": [
      "Description of age\n",
      "----------------------------------------------------------------------------\n",
      "count    872.000000\n",
      "mean      39.955275\n",
      "std       10.551675\n",
      "min       20.000000\n",
      "25%       32.000000\n",
      "50%       39.000000\n",
      "75%       48.000000\n",
      "max       62.000000\n",
      "Name: age, dtype: float64 Distribution of age\n",
      "----------------------------------------------------------------------------\n"
     ]
    },
    {
     "name": "stderr",
     "output_type": "stream",
     "text": [
      "/usr/local/lib/python3.7/dist-packages/seaborn/distributions.py:2619: FutureWarning: `distplot` is a deprecated function and will be removed in a future version. Please adapt your code to use either `displot` (a figure-level function with similar flexibility) or `histplot` (an axes-level function for histograms).\n",
      "  warnings.warn(msg, FutureWarning)\n"
     ]
    },
    {
     "data": {
      "image/png": "[encoded data removed]",
      "text/plain": [
       "<Figure size 432x288 with 1 Axes>"
      ]
     },
     "metadata": {
      "needs_background": "light"
     },
     "output_type": "display_data"
    },
    {
     "name": "stdout",
     "output_type": "stream",
     "text": [
      "BoxPlot of age\n",
      "----------------------------------------------------------------------------\n"
     ]
    },
    {
     "name": "stderr",
     "output_type": "stream",
     "text": [
      "/usr/local/lib/python3.7/dist-packages/seaborn/_core.py:1326: UserWarning: Vertical orientation ignored with only `x` specified.\n",
      "  warnings.warn(single_var_warning.format(\"Vertical\", \"x\"))\n"
     ]
    },
    {
     "data": {
      "image/png": "[encoded data removed]",
      "text/plain": [
       "<Figure size 432x288 with 1 Axes>"
      ]
     },
     "metadata": {
      "needs_background": "light"
     },
     "output_type": "display_data"
    },
    {
     "name": "stdout",
     "output_type": "stream",
     "text": [
      "Histogram of age\n",
      "----------------------------------------------------------------------------\n"
     ]
    },
    {
     "data": {
      "image/png": "[encoded data removed]",
      "text/plain": [
       "<Figure size 432x288 with 1 Axes>"
      ]
     },
     "metadata": {
      "needs_background": "light"
     },
     "output_type": "display_data"
    },
    {
     "name": "stdout",
     "output_type": "stream",
     "text": [
      "Description of educ\n",
      "----------------------------------------------------------------------------\n",
      "count    872.000000\n",
      "mean       9.307339\n",
      "std        3.036259\n",
      "min        1.000000\n",
      "25%        8.000000\n",
      "50%        9.000000\n",
      "75%       12.000000\n",
      "max       21.000000\n",
      "Name: educ, dtype: float64 Distribution of educ\n",
      "----------------------------------------------------------------------------\n"
     ]
    },
    {
     "name": "stderr",
     "output_type": "stream",
     "text": [
      "/usr/local/lib/python3.7/dist-packages/seaborn/distributions.py:2619: FutureWarning: `distplot` is a deprecated function and will be removed in a future version. Please adapt your code to use either `displot` (a figure-level function with similar flexibility) or `histplot` (an axes-level function for histograms).\n",
      "  warnings.warn(msg, FutureWarning)\n"
     ]
    },
    {
     "data": {
      "image/png": "[encoded data removed]",
      "text/plain": [
       "<Figure size 432x288 with 1 Axes>"
      ]
     },
     "metadata": {
      "needs_background": "light"
     },
     "output_type": "display_data"
    },
    {
     "name": "stdout",
     "output_type": "stream",
     "text": [
      "BoxPlot of educ\n",
      "----------------------------------------------------------------------------\n"
     ]
    },
    {
     "name": "stderr",
     "output_type": "stream",
     "text": [
      "/usr/local/lib/python3.7/dist-packages/seaborn/_core.py:1326: UserWarning: Vertical orientation ignored with only `x` specified.\n",
      "  warnings.warn(single_var_warning.format(\"Vertical\", \"x\"))\n"
     ]
    },
    {
     "data": {
      "image/png": "[encoded data removed]",
      "text/plain": [
       "<Figure size 432x288 with 1 Axes>"
      ]
     },
     "metadata": {
      "needs_background": "light"
     },
     "output_type": "display_data"
    },
    {
     "name": "stdout",
     "output_type": "stream",
     "text": [
      "Histogram of educ\n",
      "----------------------------------------------------------------------------\n"
     ]
    },
    {
     "data": {
      "image/png": "[encoded data removed]",
      "text/plain": [
       "<Figure size 432x288 with 1 Axes>"
      ]
     },
     "metadata": {
      "needs_background": "light"
     },
     "output_type": "display_data"
    },
    {
     "name": "stdout",
     "output_type": "stream",
     "text": [
      "Description of no_young_children\n",
      "----------------------------------------------------------------------------\n",
      "count    872.000000\n",
      "mean       0.311927\n",
      "std        0.612870\n",
      "min        0.000000\n",
      "25%        0.000000\n",
      "50%        0.000000\n",
      "75%        0.000000\n",
      "max        3.000000\n",
      "Name: no_young_children, dtype: float64 Distribution of no_young_children\n",
      "----------------------------------------------------------------------------\n"
     ]
    },
    {
     "name": "stderr",
     "output_type": "stream",
     "text": [
      "/usr/local/lib/python3.7/dist-packages/seaborn/distributions.py:2619: FutureWarning: `distplot` is a deprecated function and will be removed in a future version. Please adapt your code to use either `displot` (a figure-level function with similar flexibility) or `histplot` (an axes-level function for histograms).\n",
      "  warnings.warn(msg, FutureWarning)\n"
     ]
    },
    {
     "data": {
      "image/png": "[encoded data removed]",
      "text/plain": [
       "<Figure size 432x288 with 1 Axes>"
      ]
     },
     "metadata": {
      "needs_background": "light"
     },
     "output_type": "display_data"
    },
    {
     "name": "stdout",
     "output_type": "stream",
     "text": [
      "BoxPlot of no_young_children\n",
      "----------------------------------------------------------------------------\n"
     ]
    },
    {
     "name": "stderr",
     "output_type": "stream",
     "text": [
      "/usr/local/lib/python3.7/dist-packages/seaborn/_core.py:1326: UserWarning: Vertical orientation ignored with only `x` specified.\n",
      "  warnings.warn(single_var_warning.format(\"Vertical\", \"x\"))\n"
     ]
    },
    {
     "data": {
      "image/png": "[encoded data removed]",
      "text/plain": [
       "<Figure size 432x288 with 1 Axes>"
      ]
     },
     "metadata": {
      "needs_background": "light"
     },
     "output_type": "display_data"
    },
    {
     "name": "stdout",
     "output_type": "stream",
     "text": [
      "Histogram of no_young_children\n",
      "----------------------------------------------------------------------------\n"
     ]
    },
    {
     "data": {
      "image/png": "[encoded data removed]",
      "text/plain": [
       "<Figure size 432x288 with 1 Axes>"
      ]
     },
     "metadata": {
      "needs_background": "light"
     },
     "output_type": "display_data"
    },
    {
     "name": "stdout",
     "output_type": "stream",
     "text": [
      "Description of no_older_children\n",
      "----------------------------------------------------------------------------\n",
      "count    872.000000\n",
      "mean       0.982798\n",
      "std        1.086786\n",
      "min        0.000000\n",
      "25%        0.000000\n",
      "50%        1.000000\n",
      "75%        2.000000\n",
      "max        6.000000\n",
      "Name: no_older_children, dtype: float64 Distribution of no_older_children\n",
      "----------------------------------------------------------------------------\n"
     ]
    },
    {
     "name": "stderr",
     "output_type": "stream",
     "text": [
      "/usr/local/lib/python3.7/dist-packages/seaborn/distributions.py:2619: FutureWarning: `distplot` is a deprecated function and will be removed in a future version. Please adapt your code to use either `displot` (a figure-level function with similar flexibility) or `histplot` (an axes-level function for histograms).\n",
      "  warnings.warn(msg, FutureWarning)\n"
     ]
    },
    {
     "data": {
      "image/png": "[encoded data removed]",
      "text/plain": [
       "<Figure size 432x288 with 1 Axes>"
      ]
     },
     "metadata": {
      "needs_background": "light"
     },
     "output_type": "display_data"
    },
    {
     "name": "stdout",
     "output_type": "stream",
     "text": [
      "BoxPlot of no_older_children\n",
      "----------------------------------------------------------------------------\n"
     ]
    },
    {
     "name": "stderr",
     "output_type": "stream",
     "text": [
      "/usr/local/lib/python3.7/dist-packages/seaborn/_core.py:1326: UserWarning: Vertical orientation ignored with only `x` specified.\n",
      "  warnings.warn(single_var_warning.format(\"Vertical\", \"x\"))\n"
     ]
    },
    {
     "data": {
      "image/png": "[encoded data removed]",
      "text/plain": [
       "<Figure size 432x288 with 1 Axes>"
      ]
     },
     "metadata": {
      "needs_background": "light"
     },
     "output_type": "display_data"
    },
    {
     "name": "stdout",
     "output_type": "stream",
     "text": [
      "Histogram of no_older_children\n",
      "----------------------------------------------------------------------------\n"
     ]
    },
    {
     "data": {
      "image/png": "[encoded data removed]",
      "text/plain": [
       "<Figure size 432x288 with 1 Axes>"
      ]
     },
     "metadata": {
      "needs_background": "light"
     },
     "output_type": "display_data"
    }
   ],
   "source": [
    "for x in lstnumericcolumns2:\n",
    "    univariateAnalysis_numeric(x,5)"
   ]
  },
  {
   "cell_type": "code",
   "execution_count": 158,
   "id": "92714180",
   "metadata": {
    "colab": {
     "base_uri": "https://localhost:8080/",
     "height": 703
    },
    "id": "XOw7z6c3nXIn",
    "outputId": "37ad150a-a8f1-43f4-e698-dd92b0a486fa"
   },
   "outputs": [
    {
     "data": {
      "image/png": "[encoded data removed]",
      "text/plain": [
       "<Figure size 864x1152 with 8 Axes>"
      ]
     },
     "metadata": {
      "needs_background": "light"
     },
     "output_type": "display_data"
    }
   ],
   "source": [
    "df2.hist(figsize=(12,16),layout=(4,2));"
   ]
  },
  {
   "cell_type": "code",
   "execution_count": 159,
   "id": "93aa3d2a",
   "metadata": {
    "colab": {
     "base_uri": "https://localhost:8080/",
     "height": 314
    },
    "id": "4u4bDTI9PD1H",
    "outputId": "23a76b0c-9627-4fe1-eaf8-4d2b2511ba2f"
   },
   "outputs": [
    {
     "data": {
      "text/plain": [
       "<matplotlib.axes._subplots.AxesSubplot at 0x7fe95c1ebfd0>"
      ]
     },
     "execution_count": 159,
     "metadata": {},
     "output_type": "execute_result"
    },
    {
     "data": {
      "image/png": "[encoded data removed]",
      "text/plain": [
       "<Figure size 432x288 with 1 Axes>"
      ]
     },
     "metadata": {
      "needs_background": "light"
     },
     "output_type": "display_data"
    }
   ],
   "source": [
    "plt.title('Countplot of Holiday package')\n",
    "sns.countplot(data = df2, x = 'Holliday_Package')"
   ]
  },
  {
   "cell_type": "code",
   "execution_count": 160,
   "id": "5415ebd7",
   "metadata": {
    "colab": {
     "base_uri": "https://localhost:8080/",
     "height": 312
    },
    "id": "fIW3RFVqPS5b",
    "outputId": "02901e6c-2d72-474f-bef3-6e85a05244b4"
   },
   "outputs": [
    {
     "data": {
      "text/plain": [
       "<matplotlib.axes._subplots.AxesSubplot at 0x7fe9505a7190>"
      ]
     },
     "execution_count": 160,
     "metadata": {},
     "output_type": "execute_result"
    },
    {
     "data": {
      "image/png": "[encoded data removed]",
      "text/plain": [
       "<Figure size 432x288 with 1 Axes>"
      ]
     },
     "metadata": {
      "needs_background": "light"
     },
     "output_type": "display_data"
    }
   ],
   "source": [
    "plt.title('Countplot of Foreign')\n",
    "sns.countplot(data = df2, x = 'foreign')"
   ]
  },
  {
   "cell_type": "markdown",
   "id": "8b3bada1",
   "metadata": {
    "id": "RvPmmR7rneTo"
   },
   "source": [
    "Bivariate Analysis"
   ]
  },
  {
   "cell_type": "code",
   "execution_count": 161,
   "id": "f382e0ad",
   "metadata": {
    "colab": {
     "base_uri": "https://localhost:8080/",
     "height": 206
    },
    "id": "iE8Lz_7tncQi",
    "outputId": "e676d591-b33c-40d4-d96a-e4d0b1268976"
   },
   "outputs": [
    {
     "data": {
      "text/html": [
       "\n",
       "  <div id=\"df-aecf7850-32be-4921-ab69-6ce44c3f0d22\">\n",
       "    <div class=\"colab-df-container\">\n",
       "      <div>\n",
       "<style scoped>\n",
       "    .dataframe tbody tr th:only-of-type {\n",
       "        vertical-align: middle;\n",
       "    }\n",
       "\n",
       "    .dataframe tbody tr th {\n",
       "        vertical-align: top;\n",
       "    }\n",
       "\n",
       "    .dataframe thead th {\n",
       "        text-align: right;\n",
       "    }\n",
       "</style>\n",
       "<table border=\"1\" class=\"dataframe\">\n",
       "  <thead>\n",
       "    <tr style=\"text-align: right;\">\n",
       "      <th></th>\n",
       "      <th>Salary</th>\n",
       "      <th>age</th>\n",
       "      <th>educ</th>\n",
       "      <th>no_young_children</th>\n",
       "      <th>no_older_children</th>\n",
       "    </tr>\n",
       "  </thead>\n",
       "  <tbody>\n",
       "    <tr>\n",
       "      <th>Salary</th>\n",
       "      <td>1.000000</td>\n",
       "      <td>0.071709</td>\n",
       "      <td>0.326540</td>\n",
       "      <td>-0.029664</td>\n",
       "      <td>0.113772</td>\n",
       "    </tr>\n",
       "    <tr>\n",
       "      <th>age</th>\n",
       "      <td>0.071709</td>\n",
       "      <td>1.000000</td>\n",
       "      <td>-0.149294</td>\n",
       "      <td>-0.519093</td>\n",
       "      <td>-0.116205</td>\n",
       "    </tr>\n",
       "    <tr>\n",
       "      <th>educ</th>\n",
       "      <td>0.326540</td>\n",
       "      <td>-0.149294</td>\n",
       "      <td>1.000000</td>\n",
       "      <td>0.098350</td>\n",
       "      <td>-0.036321</td>\n",
       "    </tr>\n",
       "    <tr>\n",
       "      <th>no_young_children</th>\n",
       "      <td>-0.029664</td>\n",
       "      <td>-0.519093</td>\n",
       "      <td>0.098350</td>\n",
       "      <td>1.000000</td>\n",
       "      <td>-0.238428</td>\n",
       "    </tr>\n",
       "    <tr>\n",
       "      <th>no_older_children</th>\n",
       "      <td>0.113772</td>\n",
       "      <td>-0.116205</td>\n",
       "      <td>-0.036321</td>\n",
       "      <td>-0.238428</td>\n",
       "      <td>1.000000</td>\n",
       "    </tr>\n",
       "  </tbody>\n",
       "</table>\n",
       "</div>\n",
       "      <button class=\"colab-df-convert\" onclick=\"convertToInteractive('df-aecf7850-32be-4921-ab69-6ce44c3f0d22')\"\n",
       "              title=\"Convert this dataframe to an interactive table.\"\n",
       "              style=\"display:none;\">\n",
       "        \n",
       "  <svg xmlns=\"http://www.w3.org/2000/svg\" height=\"24px\"viewBox=\"0 0 24 24\"\n",
       "       width=\"24px\">\n",
       "    <path d=\"M0 0h24v24H0V0z\" fill=\"none\"/>\n",
       "    <path d=\"M18.56 5.44l.94 2.06.94-2.06 2.06-.94-2.06-.94-.94-2.06-.94 2.06-2.06.94zm-11 1L8.5 8.5l.94-2.06 2.06-.94-2.06-.94L8.5 2.5l-.94 2.06-2.06.94zm10 10l.94 2.06.94-2.06 2.06-.94-2.06-.94-.94-2.06-.94 2.06-2.06.94z\"/><path d=\"M17.41 7.96l-1.37-1.37c-.4-.4-.92-.59-1.43-.59-.52 0-1.04.2-1.43.59L10.3 9.45l-7.72 7.72c-.78.78-.78 2.05 0 2.83L4 21.41c.39.39.9.59 1.41.59.51 0 1.02-.2 1.41-.59l7.78-7.78 2.81-2.81c.8-.78.8-2.07 0-2.86zM5.41 20L4 18.59l7.72-7.72 1.47 1.35L5.41 20z\"/>\n",
       "  </svg>\n",
       "      </button>\n",
       "      \n",
       "  <style>\n",
       "    .colab-df-container {\n",
       "      display:flex;\n",
       "      flex-wrap:wrap;\n",
       "      gap: 12px;\n",
       "    }\n",
       "\n",
       "    .colab-df-convert {\n",
       "      background-color: #E8F0FE;\n",
       "      border: none;\n",
       "      border-radius: 50%;\n",
       "      cursor: pointer;\n",
       "      display: none;\n",
       "      fill: #1967D2;\n",
       "      height: 32px;\n",
       "      padding: 0 0 0 0;\n",
       "      width: 32px;\n",
       "    }\n",
       "\n",
       "    .colab-df-convert:hover {\n",
       "      background-color: #E2EBFA;\n",
       "      box-shadow: 0px 1px 2px rgba(60, 64, 67, 0.3), 0px 1px 3px 1px rgba(60, 64, 67, 0.15);\n",
       "      fill: #174EA6;\n",
       "    }\n",
       "\n",
       "    [theme=dark] .colab-df-convert {\n",
       "      background-color: #3B4455;\n",
       "      fill: #D2E3FC;\n",
       "    }\n",
       "\n",
       "    [theme=dark] .colab-df-convert:hover {\n",
       "      background-color: #434B5C;\n",
       "      box-shadow: 0px 1px 3px 1px rgba(0, 0, 0, 0.15);\n",
       "      filter: drop-shadow(0px 1px 2px rgba(0, 0, 0, 0.3));\n",
       "      fill: #FFFFFF;\n",
       "    }\n",
       "  </style>\n",
       "\n",
       "      <script>\n",
       "        const buttonEl =\n",
       "          document.querySelector('#df-aecf7850-32be-4921-ab69-6ce44c3f0d22 button.colab-df-convert');\n",
       "        buttonEl.style.display =\n",
       "          google.colab.kernel.accessAllowed ? 'block' : 'none';\n",
       "\n",
       "        async function convertToInteractive(key) {\n",
       "          const element = document.querySelector('#df-aecf7850-32be-4921-ab69-6ce44c3f0d22');\n",
       "          const dataTable =\n",
       "            await google.colab.kernel.invokeFunction('convertToInteractive',\n",
       "                                                     [key], {});\n",
       "          if (!dataTable) return;\n",
       "\n",
       "          const docLinkHtml = 'Like what you see? Visit the ' +\n",
       "            '<a target=\"_blank\" href=https://colab.research.google.com/notebooks/data_table.ipynb>data table notebook</a>'\n",
       "            + ' to learn more about interactive tables.';\n",
       "          element.innerHTML = '';\n",
       "          dataTable['output_type'] = 'display_data';\n",
       "          await google.colab.output.renderOutput(dataTable, element);\n",
       "          const docLink = document.createElement('div');\n",
       "          docLink.innerHTML = docLinkHtml;\n",
       "          element.appendChild(docLink);\n",
       "        }\n",
       "      </script>\n",
       "    </div>\n",
       "  </div>\n",
       "  "
      ],
      "text/plain": [
       "                     Salary       age  ...  no_young_children  no_older_children\n",
       "Salary             1.000000  0.071709  ...          -0.029664           0.113772\n",
       "age                0.071709  1.000000  ...          -0.519093          -0.116205\n",
       "educ               0.326540 -0.149294  ...           0.098350          -0.036321\n",
       "no_young_children -0.029664 -0.519093  ...           1.000000          -0.238428\n",
       "no_older_children  0.113772 -0.116205  ...          -0.238428           1.000000\n",
       "\n",
       "[5 rows x 5 columns]"
      ]
     },
     "execution_count": 161,
     "metadata": {},
     "output_type": "execute_result"
    }
   ],
   "source": [
    "corr2 = df2_num.corr(method='pearson')\n",
    "corr2"
   ]
  },
  {
   "cell_type": "code",
   "execution_count": 162,
   "id": "16592a69",
   "metadata": {
    "colab": {
     "base_uri": "https://localhost:8080/",
     "height": 588
    },
    "id": "F5veFQjTnhAK",
    "outputId": "dc7d59ea-4ff1-490a-d848-d108508a763d"
   },
   "outputs": [
    {
     "data": {
      "text/plain": [
       "<matplotlib.axes._subplots.AxesSubplot at 0x7fe950026510>"
      ]
     },
     "execution_count": 162,
     "metadata": {},
     "output_type": "execute_result"
    },
    {
     "data": {
      "image/png": "[encoded data removed]",
      "text/plain": [
       "<Figure size 720x576 with 2 Axes>"
      ]
     },
     "metadata": {
      "needs_background": "light"
     },
     "output_type": "display_data"
    }
   ],
   "source": [
    "plt.figure(figsize=(10,8))\n",
    "sns.heatmap(corr2, annot=True, fmt = '.2f', cmap = 'Blues')"
   ]
  },
  {
   "cell_type": "code",
   "execution_count": 163,
   "id": "69e68d41",
   "metadata": {
    "colab": {
     "base_uri": "https://localhost:8080/",
     "height": 367
    },
    "id": "N-BdGANoPagw",
    "outputId": "f389f24b-542d-4ee5-d895-3b94ed3bd5f0"
   },
   "outputs": [
    {
     "data": {
      "text/plain": [
       "<matplotlib.axes._subplots.AxesSubplot at 0x7fe94ef7d3d0>"
      ]
     },
     "execution_count": 163,
     "metadata": {},
     "output_type": "execute_result"
    },
    {
     "data": {
      "image/png": "[encoded data removed]",
      "text/plain": [
       "<Figure size 720x360 with 1 Axes>"
      ]
     },
     "metadata": {
      "needs_background": "light"
     },
     "output_type": "display_data"
    }
   ],
   "source": [
    "plt.figure(figsize=(10,5))\n",
    "plt.title('Countplot of foreign')\n",
    "sns.countplot(x='foreign',hue='Holliday_Package',data=df2)"
   ]
  },
  {
   "cell_type": "markdown",
   "id": "7d736282",
   "metadata": {
    "id": "u8c_LXo4njyq"
   },
   "source": [
    "Multivariate Analysis"
   ]
  },
  {
   "cell_type": "code",
   "execution_count": 164,
   "id": "e14700b3",
   "metadata": {
    "colab": {
     "base_uri": "https://localhost:8080/",
     "height": 909
    },
    "id": "HuLV08c5niPd",
    "outputId": "dbc1f4c6-c8e1-490e-9567-a46c10ee6ddb"
   },
   "outputs": [
    {
     "data": {
      "image/png": "[encoded data removed]",
      "text/plain": [
       "<Figure size 900x900 with 30 Axes>"
      ]
     },
     "metadata": {
      "needs_background": "light"
     },
     "output_type": "display_data"
    }
   ],
   "source": [
    "sns.pairplot(df2, diag_kind='kde')\n",
    "plt.tight_layout()"
   ]
  },
  {
   "cell_type": "code",
   "execution_count": 165,
   "id": "9aee0ed3",
   "metadata": {
    "colab": {
     "base_uri": "https://localhost:8080/",
     "height": 367
    },
    "id": "_VVNiXcOnmzi",
    "outputId": "6a877785-9c78-4707-f0c5-e655ae2d9683"
   },
   "outputs": [
    {
     "data": {
      "text/plain": [
       "<matplotlib.axes._subplots.AxesSubplot at 0x7fe9500b1a50>"
      ]
     },
     "execution_count": 165,
     "metadata": {},
     "output_type": "execute_result"
    },
    {
     "data": {
      "image/png": "[encoded data removed]",
      "text/plain": [
       "<Figure size 1080x360 with 1 Axes>"
      ]
     },
     "metadata": {
      "needs_background": "light"
     },
     "output_type": "display_data"
    }
   ],
   "source": [
    "plt.figure(figsize=(15,5))\n",
    "plt.title('Boxplot of foreign')\n",
    "sns.boxplot(data = df2, x='foreign',y='Salary', hue='Holliday_Package')"
   ]
  },
  {
   "cell_type": "markdown",
   "id": "2bd3dbcc",
   "metadata": {
    "id": "m2mP6YF-ZUIk"
   },
   "source": [
    "2.2 Do not scale the data. Encode the data (having string values) for Modelling. Data Split: Split the data into train and test (70:30). Apply Logistic Regression and LDA (linear discriminant analysis)."
   ]
  },
  {
   "cell_type": "code",
   "execution_count": 166,
   "id": "22b267a7",
   "metadata": {
    "colab": {
     "base_uri": "https://localhost:8080/"
    },
    "id": "hMkfbX70QKFi",
    "outputId": "49fac4b1-bb43-473c-c1f1-e854f8c24236"
   },
   "outputs": [
    {
     "name": "stdout",
     "output_type": "stream",
     "text": [
      "Holliday_Package\n",
      "no     471\n",
      "yes    401\n",
      "Name: Holliday_Package, dtype: int64\n",
      "\n",
      "\n",
      "foreign\n",
      "no     656\n",
      "yes    216\n",
      "Name: foreign, dtype: int64\n",
      "\n",
      "\n"
     ]
    }
   ],
   "source": [
    "for feature in df2.columns: \n",
    "    if df2[feature].dtype == 'object': \n",
    "        print(feature)\n",
    "        print(df2[feature].value_counts())\n",
    "        print('\\n')\n",
    "        "
   ]
  },
  {
   "cell_type": "code",
   "execution_count": 167,
   "id": "08f51646",
   "metadata": {
    "colab": {
     "base_uri": "https://localhost:8080/"
    },
    "id": "wb7yNr0eEo1W",
    "outputId": "1584cbdc-7b6d-4891-eed8-f7972a3792ee"
   },
   "outputs": [
    {
     "name": "stdout",
     "output_type": "stream",
     "text": [
      "Percentage of employees who have not opted for the Holiday Package is 54.01376146788991\n",
      "Percentage of employees who have opted for the Holiday Package is 45.98623853211009\n"
     ]
    }
   ],
   "source": [
    "count_no = len(df2[df2['Holliday_Package']=='no'])\n",
    "count_yes = len(df2[df2['Holliday_Package']=='yes'])\n",
    "pct_no = count_no / (count_no + count_yes)\n",
    "print ('Percentage of employees who have not opted for the Holiday Package is', pct_no*100)\n",
    "pct_yes = count_yes / (count_no + count_yes)\n",
    "print ('Percentage of employees who have opted for the Holiday Package is', pct_yes*100)"
   ]
  },
  {
   "cell_type": "code",
   "execution_count": 168,
   "id": "ee63202b",
   "metadata": {
    "colab": {
     "base_uri": "https://localhost:8080/",
     "height": 206
    },
    "id": "GQV2MMarGuQD",
    "outputId": "f7537093-92f3-45d8-9f75-a31c4d0c2c68"
   },
   "outputs": [
    {
     "data": {
      "text/html": [
       "\n",
       "  <div id=\"df-a68e0b8b-f5eb-4908-9a26-0da43804ccfe\">\n",
       "    <div class=\"colab-df-container\">\n",
       "      <div>\n",
       "<style scoped>\n",
       "    .dataframe tbody tr th:only-of-type {\n",
       "        vertical-align: middle;\n",
       "    }\n",
       "\n",
       "    .dataframe tbody tr th {\n",
       "        vertical-align: top;\n",
       "    }\n",
       "\n",
       "    .dataframe thead th {\n",
       "        text-align: right;\n",
       "    }\n",
       "</style>\n",
       "<table border=\"1\" class=\"dataframe\">\n",
       "  <thead>\n",
       "    <tr style=\"text-align: right;\">\n",
       "      <th></th>\n",
       "      <th>Holliday_Package</th>\n",
       "      <th>Salary</th>\n",
       "      <th>age</th>\n",
       "      <th>educ</th>\n",
       "      <th>no_young_children</th>\n",
       "      <th>no_older_children</th>\n",
       "      <th>foreign</th>\n",
       "    </tr>\n",
       "  </thead>\n",
       "  <tbody>\n",
       "    <tr>\n",
       "      <th>0</th>\n",
       "      <td>0</td>\n",
       "      <td>48412</td>\n",
       "      <td>30</td>\n",
       "      <td>8</td>\n",
       "      <td>1</td>\n",
       "      <td>1</td>\n",
       "      <td>0</td>\n",
       "    </tr>\n",
       "    <tr>\n",
       "      <th>1</th>\n",
       "      <td>1</td>\n",
       "      <td>37207</td>\n",
       "      <td>45</td>\n",
       "      <td>8</td>\n",
       "      <td>0</td>\n",
       "      <td>1</td>\n",
       "      <td>0</td>\n",
       "    </tr>\n",
       "    <tr>\n",
       "      <th>2</th>\n",
       "      <td>0</td>\n",
       "      <td>58022</td>\n",
       "      <td>46</td>\n",
       "      <td>9</td>\n",
       "      <td>0</td>\n",
       "      <td>0</td>\n",
       "      <td>0</td>\n",
       "    </tr>\n",
       "    <tr>\n",
       "      <th>3</th>\n",
       "      <td>0</td>\n",
       "      <td>66503</td>\n",
       "      <td>31</td>\n",
       "      <td>11</td>\n",
       "      <td>2</td>\n",
       "      <td>0</td>\n",
       "      <td>0</td>\n",
       "    </tr>\n",
       "    <tr>\n",
       "      <th>4</th>\n",
       "      <td>0</td>\n",
       "      <td>66734</td>\n",
       "      <td>44</td>\n",
       "      <td>12</td>\n",
       "      <td>0</td>\n",
       "      <td>2</td>\n",
       "      <td>0</td>\n",
       "    </tr>\n",
       "  </tbody>\n",
       "</table>\n",
       "</div>\n",
       "      <button class=\"colab-df-convert\" onclick=\"convertToInteractive('df-a68e0b8b-f5eb-4908-9a26-0da43804ccfe')\"\n",
       "              title=\"Convert this dataframe to an interactive table.\"\n",
       "              style=\"display:none;\">\n",
       "        \n",
       "  <svg xmlns=\"http://www.w3.org/2000/svg\" height=\"24px\"viewBox=\"0 0 24 24\"\n",
       "       width=\"24px\">\n",
       "    <path d=\"M0 0h24v24H0V0z\" fill=\"none\"/>\n",
       "    <path d=\"M18.56 5.44l.94 2.06.94-2.06 2.06-.94-2.06-.94-.94-2.06-.94 2.06-2.06.94zm-11 1L8.5 8.5l.94-2.06 2.06-.94-2.06-.94L8.5 2.5l-.94 2.06-2.06.94zm10 10l.94 2.06.94-2.06 2.06-.94-2.06-.94-.94-2.06-.94 2.06-2.06.94z\"/><path d=\"M17.41 7.96l-1.37-1.37c-.4-.4-.92-.59-1.43-.59-.52 0-1.04.2-1.43.59L10.3 9.45l-7.72 7.72c-.78.78-.78 2.05 0 2.83L4 21.41c.39.39.9.59 1.41.59.51 0 1.02-.2 1.41-.59l7.78-7.78 2.81-2.81c.8-.78.8-2.07 0-2.86zM5.41 20L4 18.59l7.72-7.72 1.47 1.35L5.41 20z\"/>\n",
       "  </svg>\n",
       "      </button>\n",
       "      \n",
       "  <style>\n",
       "    .colab-df-container {\n",
       "      display:flex;\n",
       "      flex-wrap:wrap;\n",
       "      gap: 12px;\n",
       "    }\n",
       "\n",
       "    .colab-df-convert {\n",
       "      background-color: #E8F0FE;\n",
       "      border: none;\n",
       "      border-radius: 50%;\n",
       "      cursor: pointer;\n",
       "      display: none;\n",
       "      fill: #1967D2;\n",
       "      height: 32px;\n",
       "      padding: 0 0 0 0;\n",
       "      width: 32px;\n",
       "    }\n",
       "\n",
       "    .colab-df-convert:hover {\n",
       "      background-color: #E2EBFA;\n",
       "      box-shadow: 0px 1px 2px rgba(60, 64, 67, 0.3), 0px 1px 3px 1px rgba(60, 64, 67, 0.15);\n",
       "      fill: #174EA6;\n",
       "    }\n",
       "\n",
       "    [theme=dark] .colab-df-convert {\n",
       "      background-color: #3B4455;\n",
       "      fill: #D2E3FC;\n",
       "    }\n",
       "\n",
       "    [theme=dark] .colab-df-convert:hover {\n",
       "      background-color: #434B5C;\n",
       "      box-shadow: 0px 1px 3px 1px rgba(0, 0, 0, 0.15);\n",
       "      filter: drop-shadow(0px 1px 2px rgba(0, 0, 0, 0.3));\n",
       "      fill: #FFFFFF;\n",
       "    }\n",
       "  </style>\n",
       "\n",
       "      <script>\n",
       "        const buttonEl =\n",
       "          document.querySelector('#df-a68e0b8b-f5eb-4908-9a26-0da43804ccfe button.colab-df-convert');\n",
       "        buttonEl.style.display =\n",
       "          google.colab.kernel.accessAllowed ? 'block' : 'none';\n",
       "\n",
       "        async function convertToInteractive(key) {\n",
       "          const element = document.querySelector('#df-a68e0b8b-f5eb-4908-9a26-0da43804ccfe');\n",
       "          const dataTable =\n",
       "            await google.colab.kernel.invokeFunction('convertToInteractive',\n",
       "                                                     [key], {});\n",
       "          if (!dataTable) return;\n",
       "\n",
       "          const docLinkHtml = 'Like what you see? Visit the ' +\n",
       "            '<a target=\"_blank\" href=https://colab.research.google.com/notebooks/data_table.ipynb>data table notebook</a>'\n",
       "            + ' to learn more about interactive tables.';\n",
       "          element.innerHTML = '';\n",
       "          dataTable['output_type'] = 'display_data';\n",
       "          await google.colab.output.renderOutput(dataTable, element);\n",
       "          const docLink = document.createElement('div');\n",
       "          docLink.innerHTML = docLinkHtml;\n",
       "          element.appendChild(docLink);\n",
       "        }\n",
       "      </script>\n",
       "    </div>\n",
       "  </div>\n",
       "  "
      ],
      "text/plain": [
       "   Holliday_Package  Salary  age  ...  no_young_children  no_older_children  foreign\n",
       "0                 0   48412   30  ...                  1                  1        0\n",
       "1                 1   37207   45  ...                  0                  1        0\n",
       "2                 0   58022   46  ...                  0                  0        0\n",
       "3                 0   66503   31  ...                  2                  0        0\n",
       "4                 0   66734   44  ...                  0                  2        0\n",
       "\n",
       "[5 rows x 7 columns]"
      ]
     },
     "execution_count": 168,
     "metadata": {},
     "output_type": "execute_result"
    }
   ],
   "source": [
    "df2 = df2.replace({'yes':1,'no':0})\n",
    "df2.head()"
   ]
  },
  {
   "cell_type": "code",
   "execution_count": 169,
   "id": "5d6470f5",
   "metadata": {
    "colab": {
     "base_uri": "https://localhost:8080/"
    },
    "id": "WsWW4CF_YMPS",
    "outputId": "a84aabdc-6b0f-42b4-93b7-0c9df8367ff0"
   },
   "outputs": [
    {
     "data": {
      "text/plain": [
       "Holliday_Package     int64\n",
       "Salary               int64\n",
       "age                  int64\n",
       "educ                 int64\n",
       "no_young_children    int64\n",
       "no_older_children    int64\n",
       "foreign              int64\n",
       "dtype: object"
      ]
     },
     "execution_count": 169,
     "metadata": {},
     "output_type": "execute_result"
    }
   ],
   "source": [
    "df2.dtypes"
   ]
  },
  {
   "cell_type": "code",
   "execution_count": 170,
   "id": "7f5d4365",
   "metadata": {
    "id": "WCicVb3vYZi7"
   },
   "outputs": [],
   "source": [
    "X = df2.drop('Holliday_Package', axis=1)\n",
    "y = df2['Holliday_Package']"
   ]
  },
  {
   "cell_type": "code",
   "execution_count": 171,
   "id": "b6ba3f0a",
   "metadata": {
    "id": "oB9QSINLYss_"
   },
   "outputs": [],
   "source": [
    "X_train, X_test, y_train, y_test = train_test_split(X, y, test_size=0.30 , random_state=1,stratify=df2['Holliday_Package'])"
   ]
  },
  {
   "cell_type": "code",
   "execution_count": 172,
   "id": "a8c40657",
   "metadata": {
    "colab": {
     "base_uri": "https://localhost:8080/"
    },
    "id": "hqWD7sxtY6Np",
    "outputId": "1562db90-1ebe-4eaf-fca0-83d16412ac3a"
   },
   "outputs": [
    {
     "data": {
      "text/plain": [
       "0    0.539344\n",
       "1    0.460656\n",
       "Name: Holliday_Package, dtype: float64"
      ]
     },
     "execution_count": 172,
     "metadata": {},
     "output_type": "execute_result"
    }
   ],
   "source": [
    "y_train.value_counts(1)"
   ]
  },
  {
   "cell_type": "code",
   "execution_count": 173,
   "id": "df948002",
   "metadata": {
    "colab": {
     "base_uri": "https://localhost:8080/"
    },
    "id": "tcYqGl_Kaj86",
    "outputId": "485a40ce-5997-4291-fa1a-0b2a8e05011f"
   },
   "outputs": [
    {
     "data": {
      "text/plain": [
       "0    0.541985\n",
       "1    0.458015\n",
       "Name: Holliday_Package, dtype: float64"
      ]
     },
     "execution_count": 173,
     "metadata": {},
     "output_type": "execute_result"
    }
   ],
   "source": [
    "y_test.value_counts(1)"
   ]
  },
  {
   "cell_type": "markdown",
   "id": "72cfdb96",
   "metadata": {
    "id": "6elRK1Jgi81U"
   },
   "source": [
    "Logistic Regression"
   ]
  },
  {
   "cell_type": "code",
   "execution_count": 174,
   "id": "0d415642",
   "metadata": {
    "colab": {
     "base_uri": "https://localhost:8080/"
    },
    "id": "CruJk-ipamPr",
    "outputId": "d051f097-7d20-4c02-e4b7-59bb5479cdfd"
   },
   "outputs": [
    {
     "name": "stderr",
     "output_type": "stream",
     "text": [
      "[Parallel(n_jobs=2)]: Using backend LokyBackend with 2 concurrent workers.\n",
      "[Parallel(n_jobs=2)]: Done   1 out of   1 | elapsed:    1.0s finished\n"
     ]
    },
    {
     "data": {
      "text/plain": [
       "LogisticRegression(max_iter=10000, n_jobs=2, penalty='none', solver='newton-cg',\n",
       "                   verbose=True)"
      ]
     },
     "execution_count": 174,
     "metadata": {},
     "output_type": "execute_result"
    }
   ],
   "source": [
    "logistic_model = LogisticRegression(solver='newton-cg',max_iter=10000,penalty='none',verbose=True,n_jobs=2)\n",
    "logistic_model.fit(X_train, y_train)"
   ]
  },
  {
   "cell_type": "code",
   "execution_count": 175,
   "id": "8c864412",
   "metadata": {
    "id": "gokHLPP4avzJ"
   },
   "outputs": [],
   "source": [
    "ytrain_predict_logistic = logistic_model.predict(X_train)\n",
    "ytest_predict_logistic = logistic_model.predict(X_test)"
   ]
  },
  {
   "cell_type": "code",
   "execution_count": 176,
   "id": "bffb211d",
   "metadata": {
    "colab": {
     "base_uri": "https://localhost:8080/",
     "height": 206
    },
    "id": "ShfovP_4a8Gh",
    "outputId": "38ce04b7-6461-461e-c591-3104e17bcea2"
   },
   "outputs": [
    {
     "data": {
      "text/html": [
       "\n",
       "  <div id=\"df-bb5bcb99-d3cc-4f99-abba-b37e4758efc4\">\n",
       "    <div class=\"colab-df-container\">\n",
       "      <div>\n",
       "<style scoped>\n",
       "    .dataframe tbody tr th:only-of-type {\n",
       "        vertical-align: middle;\n",
       "    }\n",
       "\n",
       "    .dataframe tbody tr th {\n",
       "        vertical-align: top;\n",
       "    }\n",
       "\n",
       "    .dataframe thead th {\n",
       "        text-align: right;\n",
       "    }\n",
       "</style>\n",
       "<table border=\"1\" class=\"dataframe\">\n",
       "  <thead>\n",
       "    <tr style=\"text-align: right;\">\n",
       "      <th></th>\n",
       "      <th>0</th>\n",
       "      <th>1</th>\n",
       "    </tr>\n",
       "  </thead>\n",
       "  <tbody>\n",
       "    <tr>\n",
       "      <th>0</th>\n",
       "      <td>0.685290</td>\n",
       "      <td>0.314710</td>\n",
       "    </tr>\n",
       "    <tr>\n",
       "      <th>1</th>\n",
       "      <td>0.539482</td>\n",
       "      <td>0.460518</td>\n",
       "    </tr>\n",
       "    <tr>\n",
       "      <th>2</th>\n",
       "      <td>0.696983</td>\n",
       "      <td>0.303017</td>\n",
       "    </tr>\n",
       "    <tr>\n",
       "      <th>3</th>\n",
       "      <td>0.496343</td>\n",
       "      <td>0.503657</td>\n",
       "    </tr>\n",
       "    <tr>\n",
       "      <th>4</th>\n",
       "      <td>0.557671</td>\n",
       "      <td>0.442329</td>\n",
       "    </tr>\n",
       "  </tbody>\n",
       "</table>\n",
       "</div>\n",
       "      <button class=\"colab-df-convert\" onclick=\"convertToInteractive('df-bb5bcb99-d3cc-4f99-abba-b37e4758efc4')\"\n",
       "              title=\"Convert this dataframe to an interactive table.\"\n",
       "              style=\"display:none;\">\n",
       "        \n",
       "  <svg xmlns=\"http://www.w3.org/2000/svg\" height=\"24px\"viewBox=\"0 0 24 24\"\n",
       "       width=\"24px\">\n",
       "    <path d=\"M0 0h24v24H0V0z\" fill=\"none\"/>\n",
       "    <path d=\"M18.56 5.44l.94 2.06.94-2.06 2.06-.94-2.06-.94-.94-2.06-.94 2.06-2.06.94zm-11 1L8.5 8.5l.94-2.06 2.06-.94-2.06-.94L8.5 2.5l-.94 2.06-2.06.94zm10 10l.94 2.06.94-2.06 2.06-.94-2.06-.94-.94-2.06-.94 2.06-2.06.94z\"/><path d=\"M17.41 7.96l-1.37-1.37c-.4-.4-.92-.59-1.43-.59-.52 0-1.04.2-1.43.59L10.3 9.45l-7.72 7.72c-.78.78-.78 2.05 0 2.83L4 21.41c.39.39.9.59 1.41.59.51 0 1.02-.2 1.41-.59l7.78-7.78 2.81-2.81c.8-.78.8-2.07 0-2.86zM5.41 20L4 18.59l7.72-7.72 1.47 1.35L5.41 20z\"/>\n",
       "  </svg>\n",
       "      </button>\n",
       "      \n",
       "  <style>\n",
       "    .colab-df-container {\n",
       "      display:flex;\n",
       "      flex-wrap:wrap;\n",
       "      gap: 12px;\n",
       "    }\n",
       "\n",
       "    .colab-df-convert {\n",
       "      background-color: #E8F0FE;\n",
       "      border: none;\n",
       "      border-radius: 50%;\n",
       "      cursor: pointer;\n",
       "      display: none;\n",
       "      fill: #1967D2;\n",
       "      height: 32px;\n",
       "      padding: 0 0 0 0;\n",
       "      width: 32px;\n",
       "    }\n",
       "\n",
       "    .colab-df-convert:hover {\n",
       "      background-color: #E2EBFA;\n",
       "      box-shadow: 0px 1px 2px rgba(60, 64, 67, 0.3), 0px 1px 3px 1px rgba(60, 64, 67, 0.15);\n",
       "      fill: #174EA6;\n",
       "    }\n",
       "\n",
       "    [theme=dark] .colab-df-convert {\n",
       "      background-color: #3B4455;\n",
       "      fill: #D2E3FC;\n",
       "    }\n",
       "\n",
       "    [theme=dark] .colab-df-convert:hover {\n",
       "      background-color: #434B5C;\n",
       "      box-shadow: 0px 1px 3px 1px rgba(0, 0, 0, 0.15);\n",
       "      filter: drop-shadow(0px 1px 2px rgba(0, 0, 0, 0.3));\n",
       "      fill: #FFFFFF;\n",
       "    }\n",
       "  </style>\n",
       "\n",
       "      <script>\n",
       "        const buttonEl =\n",
       "          document.querySelector('#df-bb5bcb99-d3cc-4f99-abba-b37e4758efc4 button.colab-df-convert');\n",
       "        buttonEl.style.display =\n",
       "          google.colab.kernel.accessAllowed ? 'block' : 'none';\n",
       "\n",
       "        async function convertToInteractive(key) {\n",
       "          const element = document.querySelector('#df-bb5bcb99-d3cc-4f99-abba-b37e4758efc4');\n",
       "          const dataTable =\n",
       "            await google.colab.kernel.invokeFunction('convertToInteractive',\n",
       "                                                     [key], {});\n",
       "          if (!dataTable) return;\n",
       "\n",
       "          const docLinkHtml = 'Like what you see? Visit the ' +\n",
       "            '<a target=\"_blank\" href=https://colab.research.google.com/notebooks/data_table.ipynb>data table notebook</a>'\n",
       "            + ' to learn more about interactive tables.';\n",
       "          element.innerHTML = '';\n",
       "          dataTable['output_type'] = 'display_data';\n",
       "          await google.colab.output.renderOutput(dataTable, element);\n",
       "          const docLink = document.createElement('div');\n",
       "          docLink.innerHTML = docLinkHtml;\n",
       "          element.appendChild(docLink);\n",
       "        }\n",
       "      </script>\n",
       "    </div>\n",
       "  </div>\n",
       "  "
      ],
      "text/plain": [
       "          0         1\n",
       "0  0.685290  0.314710\n",
       "1  0.539482  0.460518\n",
       "2  0.696983  0.303017\n",
       "3  0.496343  0.503657\n",
       "4  0.557671  0.442329"
      ]
     },
     "execution_count": 176,
     "metadata": {},
     "output_type": "execute_result"
    }
   ],
   "source": [
    "ytest_predict_prob_log = logistic_model.predict_proba(X_test)\n",
    "pd.DataFrame(ytest_predict_prob_log).head()"
   ]
  },
  {
   "cell_type": "code",
   "execution_count": 177,
   "id": "6e2810a4",
   "metadata": {
    "colab": {
     "base_uri": "https://localhost:8080/"
    },
    "id": "0Q-T3FyigsT0",
    "outputId": "9625678c-71f4-4da1-b379-a81d576ccb4d"
   },
   "outputs": [
    {
     "name": "stdout",
     "output_type": "stream",
     "text": [
      "The coefficient for Salary is -1.6460225372131945e-05\n",
      "The coefficient for age is -0.05704714352045977\n",
      "The coefficient for educ is 0.06033255640825292\n",
      "The coefficient for no_young_children is -1.3481999932707187\n",
      "The coefficient for no_older_children is -0.04881320890275699\n",
      "The coefficient for foreign is 1.2658824581424146\n"
     ]
    }
   ],
   "source": [
    "for idx, col_name in enumerate(X_train.columns):\n",
    "    print(\"The coefficient for {} is {}\".format(col_name, logistic_model.coef_[0][idx]))"
   ]
  },
  {
   "cell_type": "markdown",
   "id": "53c16093",
   "metadata": {
    "id": "PQboCszScM3x"
   },
   "source": [
    "Applying GridSearchCV for Logistic Regression"
   ]
  },
  {
   "cell_type": "code",
   "execution_count": 179,
   "id": "0f37166b",
   "metadata": {
    "id": "dikVXyf7ctk6"
   },
   "outputs": [],
   "source": [
    "param_grid_logistic = {\n",
    "    'penalty': ['l2','none'],\n",
    "    'solver': ['sag','lbfgs','liblinear','saga'],\n",
    "    'tol': [0.0001,0.00001]\n",
    "}\n",
    "\n",
    "logistic = LogisticRegression(max_iter=10000,n_jobs=2)\n",
    "\n",
    "grid_search_logistic = GridSearchCV(estimator = logistic, param_grid = param_grid_logistic, cv = 3,n_jobs=-1,scoring='f1')"
   ]
  },
  {
   "cell_type": "code",
   "execution_count": 180,
   "id": "42956435",
   "metadata": {
    "colab": {
     "base_uri": "https://localhost:8080/"
    },
    "id": "hjxp1z9reMUW",
    "outputId": "168730d8-b405-46f7-93f2-108de1aed520"
   },
   "outputs": [
    {
     "name": "stdout",
     "output_type": "stream",
     "text": [
      "{'penalty': 'l2', 'solver': 'liblinear', 'tol': 1e-05}\n"
     ]
    },
    {
     "name": "stderr",
     "output_type": "stream",
     "text": [
      "/usr/local/lib/python3.7/dist-packages/sklearn/model_selection/_validation.py:372: FitFailedWarning: \n",
      "6 fits failed out of a total of 48.\n",
      "The score on these train-test partitions for these parameters will be set to nan.\n",
      "If these failures are not expected, you can try to debug them by setting error_score='raise'.\n",
      "\n",
      "Below are more details about the failures:\n",
      "--------------------------------------------------------------------------------\n",
      "6 fits failed with the following error:\n",
      "Traceback (most recent call last):\n",
      "  File \"/usr/local/lib/python3.7/dist-packages/sklearn/model_selection/_validation.py\", line 680, in _fit_and_score\n",
      "    estimator.fit(X_train, y_train, **fit_params)\n",
      "  File \"/usr/local/lib/python3.7/dist-packages/sklearn/linear_model/_logistic.py\", line 1461, in fit\n",
      "    solver = _check_solver(self.solver, self.penalty, self.dual)\n",
      "  File \"/usr/local/lib/python3.7/dist-packages/sklearn/linear_model/_logistic.py\", line 464, in _check_solver\n",
      "    raise ValueError(\"penalty='none' is not supported for the liblinear solver\")\n",
      "ValueError: penalty='none' is not supported for the liblinear solver\n",
      "\n",
      "  warnings.warn(some_fits_failed_message, FitFailedWarning)\n",
      "/usr/local/lib/python3.7/dist-packages/sklearn/model_selection/_search.py:972: UserWarning: One or more of the test scores are non-finite: [0.         0.         0.0901214  0.0901214  0.15970099 0.58728312\n",
      " 0.         0.         0.         0.         0.0901214  0.0901214\n",
      "        nan        nan 0.         0.        ]\n",
      "  category=UserWarning,\n",
      "/usr/local/lib/python3.7/dist-packages/sklearn/linear_model/_logistic.py:1526: UserWarning: 'n_jobs' > 1 does not have any effect when 'solver' is set to 'liblinear'. Got 'n_jobs' = 2.\n",
      "  \" = {}.\".format(effective_n_jobs(self.n_jobs))\n"
     ]
    },
    {
     "data": {
      "text/plain": [
       "LogisticRegression(max_iter=10000, n_jobs=2, solver='liblinear', tol=1e-05)"
      ]
     },
     "execution_count": 180,
     "metadata": {},
     "output_type": "execute_result"
    }
   ],
   "source": [
    "grid_search_logistic.fit(X_train, y_train)\n",
    "print(grid_search_logistic.best_params_)\n",
    "best_grid_logistic = grid_search_logistic.best_estimator_\n",
    "best_grid_logistic"
   ]
  },
  {
   "cell_type": "markdown",
   "id": "d83cbbe2",
   "metadata": {
    "id": "rs-RpgNTgzW-"
   },
   "source": [
    "Prediction on the training set"
   ]
  },
  {
   "cell_type": "code",
   "execution_count": 181,
   "id": "4e9082c1",
   "metadata": {
    "id": "ewvqv4JwePB7"
   },
   "outputs": [],
   "source": [
    "ytrain_predict_grid = best_grid_logistic.predict(X_train)\n",
    "ytest_predict_grid = best_grid_logistic.predict(X_test)"
   ]
  },
  {
   "cell_type": "code",
   "execution_count": 182,
   "id": "d260bbe0",
   "metadata": {
    "colab": {
     "base_uri": "https://localhost:8080/",
     "height": 206
    },
    "id": "dRoYSGt8g5-A",
    "outputId": "b038bc5e-69fb-4748-cdbd-cf020395635f"
   },
   "outputs": [
    {
     "data": {
      "text/html": [
       "\n",
       "  <div id=\"df-c0ed3194-0bf6-4930-b6f9-eb3a7d18b27a\">\n",
       "    <div class=\"colab-df-container\">\n",
       "      <div>\n",
       "<style scoped>\n",
       "    .dataframe tbody tr th:only-of-type {\n",
       "        vertical-align: middle;\n",
       "    }\n",
       "\n",
       "    .dataframe tbody tr th {\n",
       "        vertical-align: top;\n",
       "    }\n",
       "\n",
       "    .dataframe thead th {\n",
       "        text-align: right;\n",
       "    }\n",
       "</style>\n",
       "<table border=\"1\" class=\"dataframe\">\n",
       "  <thead>\n",
       "    <tr style=\"text-align: right;\">\n",
       "      <th></th>\n",
       "      <th>0</th>\n",
       "      <th>1</th>\n",
       "    </tr>\n",
       "  </thead>\n",
       "  <tbody>\n",
       "    <tr>\n",
       "      <th>0</th>\n",
       "      <td>0.672103</td>\n",
       "      <td>0.327897</td>\n",
       "    </tr>\n",
       "    <tr>\n",
       "      <th>1</th>\n",
       "      <td>0.635202</td>\n",
       "      <td>0.364798</td>\n",
       "    </tr>\n",
       "    <tr>\n",
       "      <th>2</th>\n",
       "      <td>0.683198</td>\n",
       "      <td>0.316802</td>\n",
       "    </tr>\n",
       "    <tr>\n",
       "      <th>3</th>\n",
       "      <td>0.592424</td>\n",
       "      <td>0.407576</td>\n",
       "    </tr>\n",
       "    <tr>\n",
       "      <th>4</th>\n",
       "      <td>0.539563</td>\n",
       "      <td>0.460437</td>\n",
       "    </tr>\n",
       "  </tbody>\n",
       "</table>\n",
       "</div>\n",
       "      <button class=\"colab-df-convert\" onclick=\"convertToInteractive('df-c0ed3194-0bf6-4930-b6f9-eb3a7d18b27a')\"\n",
       "              title=\"Convert this dataframe to an interactive table.\"\n",
       "              style=\"display:none;\">\n",
       "        \n",
       "  <svg xmlns=\"http://www.w3.org/2000/svg\" height=\"24px\"viewBox=\"0 0 24 24\"\n",
       "       width=\"24px\">\n",
       "    <path d=\"M0 0h24v24H0V0z\" fill=\"none\"/>\n",
       "    <path d=\"M18.56 5.44l.94 2.06.94-2.06 2.06-.94-2.06-.94-.94-2.06-.94 2.06-2.06.94zm-11 1L8.5 8.5l.94-2.06 2.06-.94-2.06-.94L8.5 2.5l-.94 2.06-2.06.94zm10 10l.94 2.06.94-2.06 2.06-.94-2.06-.94-.94-2.06-.94 2.06-2.06.94z\"/><path d=\"M17.41 7.96l-1.37-1.37c-.4-.4-.92-.59-1.43-.59-.52 0-1.04.2-1.43.59L10.3 9.45l-7.72 7.72c-.78.78-.78 2.05 0 2.83L4 21.41c.39.39.9.59 1.41.59.51 0 1.02-.2 1.41-.59l7.78-7.78 2.81-2.81c.8-.78.8-2.07 0-2.86zM5.41 20L4 18.59l7.72-7.72 1.47 1.35L5.41 20z\"/>\n",
       "  </svg>\n",
       "      </button>\n",
       "      \n",
       "  <style>\n",
       "    .colab-df-container {\n",
       "      display:flex;\n",
       "      flex-wrap:wrap;\n",
       "      gap: 12px;\n",
       "    }\n",
       "\n",
       "    .colab-df-convert {\n",
       "      background-color: #E8F0FE;\n",
       "      border: none;\n",
       "      border-radius: 50%;\n",
       "      cursor: pointer;\n",
       "      display: none;\n",
       "      fill: #1967D2;\n",
       "      height: 32px;\n",
       "      padding: 0 0 0 0;\n",
       "      width: 32px;\n",
       "    }\n",
       "\n",
       "    .colab-df-convert:hover {\n",
       "      background-color: #E2EBFA;\n",
       "      box-shadow: 0px 1px 2px rgba(60, 64, 67, 0.3), 0px 1px 3px 1px rgba(60, 64, 67, 0.15);\n",
       "      fill: #174EA6;\n",
       "    }\n",
       "\n",
       "    [theme=dark] .colab-df-convert {\n",
       "      background-color: #3B4455;\n",
       "      fill: #D2E3FC;\n",
       "    }\n",
       "\n",
       "    [theme=dark] .colab-df-convert:hover {\n",
       "      background-color: #434B5C;\n",
       "      box-shadow: 0px 1px 3px 1px rgba(0, 0, 0, 0.15);\n",
       "      filter: drop-shadow(0px 1px 2px rgba(0, 0, 0, 0.3));\n",
       "      fill: #FFFFFF;\n",
       "    }\n",
       "  </style>\n",
       "\n",
       "      <script>\n",
       "        const buttonEl =\n",
       "          document.querySelector('#df-c0ed3194-0bf6-4930-b6f9-eb3a7d18b27a button.colab-df-convert');\n",
       "        buttonEl.style.display =\n",
       "          google.colab.kernel.accessAllowed ? 'block' : 'none';\n",
       "\n",
       "        async function convertToInteractive(key) {\n",
       "          const element = document.querySelector('#df-c0ed3194-0bf6-4930-b6f9-eb3a7d18b27a');\n",
       "          const dataTable =\n",
       "            await google.colab.kernel.invokeFunction('convertToInteractive',\n",
       "                                                     [key], {});\n",
       "          if (!dataTable) return;\n",
       "\n",
       "          const docLinkHtml = 'Like what you see? Visit the ' +\n",
       "            '<a target=\"_blank\" href=https://colab.research.google.com/notebooks/data_table.ipynb>data table notebook</a>'\n",
       "            + ' to learn more about interactive tables.';\n",
       "          element.innerHTML = '';\n",
       "          dataTable['output_type'] = 'display_data';\n",
       "          await google.colab.output.renderOutput(dataTable, element);\n",
       "          const docLink = document.createElement('div');\n",
       "          docLink.innerHTML = docLinkHtml;\n",
       "          element.appendChild(docLink);\n",
       "        }\n",
       "      </script>\n",
       "    </div>\n",
       "  </div>\n",
       "  "
      ],
      "text/plain": [
       "          0         1\n",
       "0  0.672103  0.327897\n",
       "1  0.635202  0.364798\n",
       "2  0.683198  0.316802\n",
       "3  0.592424  0.407576\n",
       "4  0.539563  0.460437"
      ]
     },
     "execution_count": 182,
     "metadata": {},
     "output_type": "execute_result"
    }
   ],
   "source": [
    "ytest_predict_prob=best_grid_logistic.predict_proba(X_test)\n",
    "pd.DataFrame(ytest_predict_prob).head()"
   ]
  },
  {
   "cell_type": "code",
   "execution_count": 183,
   "id": "e6152267",
   "metadata": {
    "colab": {
     "base_uri": "https://localhost:8080/"
    },
    "id": "A7jgnmdVhoPL",
    "outputId": "21f117eb-da7a-4c84-823e-75d69c99cfbb"
   },
   "outputs": [
    {
     "name": "stdout",
     "output_type": "stream",
     "text": [
      "The coefficient for Salary is -1.5262861316753808e-05\n",
      "The coefficient for age is -0.03704004359340633\n",
      "The coefficient for educ is 0.10318217023357518\n",
      "The coefficient for no_young_children is -1.1065141307527093\n",
      "The coefficient for no_older_children is 0.035857865492076355\n",
      "The coefficient for foreign is 1.4269751755777331\n"
     ]
    }
   ],
   "source": [
    "for idx, col_name in enumerate(X_train.columns):\n",
    "    print(\"The coefficient for {} is {}\".format(col_name, best_grid_logistic.coef_[0][idx]))"
   ]
  },
  {
   "cell_type": "markdown",
   "id": "c690d1da",
   "metadata": {
    "id": "kFaldNO9jAFT"
   },
   "source": [
    "Linear Discriminant Analysis"
   ]
  },
  {
   "cell_type": "code",
   "execution_count": 184,
   "id": "d2d5a0db",
   "metadata": {
    "colab": {
     "base_uri": "https://localhost:8080/"
    },
    "id": "g9ou9dGRCwTU",
    "outputId": "9954c7e4-cfa7-47ad-c12e-b0c7ba44b726"
   },
   "outputs": [
    {
     "data": {
      "text/plain": [
       "LinearDiscriminantAnalysis()"
      ]
     },
     "execution_count": 184,
     "metadata": {},
     "output_type": "execute_result"
    }
   ],
   "source": [
    "lda_model = LinearDiscriminantAnalysis(n_components = None, priors = None, shrinkage = None, solver='svd',store_covariance = False, tol = 0.0001)\n",
    "lda_model.fit(X_train, y_train)\n",
    "lda_model"
   ]
  },
  {
   "cell_type": "code",
   "execution_count": 185,
   "id": "7b801b20",
   "metadata": {
    "id": "ykt2tkhWIriL"
   },
   "outputs": [],
   "source": [
    "ytrain_predict_lda = lda_model.predict(X_train)\n",
    "ytest_predict_lda = lda_model.predict(X_test)"
   ]
  },
  {
   "cell_type": "code",
   "execution_count": 186,
   "id": "1fae5bc0",
   "metadata": {
    "colab": {
     "base_uri": "https://localhost:8080/",
     "height": 206
    },
    "id": "l41ERc1vmiv0",
    "outputId": "d31c2e23-7d36-4666-f9bc-12b9e8b7df5a"
   },
   "outputs": [
    {
     "data": {
      "text/html": [
       "\n",
       "  <div id=\"df-b2a151d1-cdea-455c-9045-fe45b94139e2\">\n",
       "    <div class=\"colab-df-container\">\n",
       "      <div>\n",
       "<style scoped>\n",
       "    .dataframe tbody tr th:only-of-type {\n",
       "        vertical-align: middle;\n",
       "    }\n",
       "\n",
       "    .dataframe tbody tr th {\n",
       "        vertical-align: top;\n",
       "    }\n",
       "\n",
       "    .dataframe thead th {\n",
       "        text-align: right;\n",
       "    }\n",
       "</style>\n",
       "<table border=\"1\" class=\"dataframe\">\n",
       "  <thead>\n",
       "    <tr style=\"text-align: right;\">\n",
       "      <th></th>\n",
       "      <th>0</th>\n",
       "      <th>1</th>\n",
       "    </tr>\n",
       "  </thead>\n",
       "  <tbody>\n",
       "    <tr>\n",
       "      <th>0</th>\n",
       "      <td>0.708475</td>\n",
       "      <td>0.291525</td>\n",
       "    </tr>\n",
       "    <tr>\n",
       "      <th>1</th>\n",
       "      <td>0.533448</td>\n",
       "      <td>0.466552</td>\n",
       "    </tr>\n",
       "    <tr>\n",
       "      <th>2</th>\n",
       "      <td>0.717871</td>\n",
       "      <td>0.282129</td>\n",
       "    </tr>\n",
       "    <tr>\n",
       "      <th>3</th>\n",
       "      <td>0.504865</td>\n",
       "      <td>0.495135</td>\n",
       "    </tr>\n",
       "    <tr>\n",
       "      <th>4</th>\n",
       "      <td>0.555863</td>\n",
       "      <td>0.444137</td>\n",
       "    </tr>\n",
       "  </tbody>\n",
       "</table>\n",
       "</div>\n",
       "      <button class=\"colab-df-convert\" onclick=\"convertToInteractive('df-b2a151d1-cdea-455c-9045-fe45b94139e2')\"\n",
       "              title=\"Convert this dataframe to an interactive table.\"\n",
       "              style=\"display:none;\">\n",
       "        \n",
       "  <svg xmlns=\"http://www.w3.org/2000/svg\" height=\"24px\"viewBox=\"0 0 24 24\"\n",
       "       width=\"24px\">\n",
       "    <path d=\"M0 0h24v24H0V0z\" fill=\"none\"/>\n",
       "    <path d=\"M18.56 5.44l.94 2.06.94-2.06 2.06-.94-2.06-.94-.94-2.06-.94 2.06-2.06.94zm-11 1L8.5 8.5l.94-2.06 2.06-.94-2.06-.94L8.5 2.5l-.94 2.06-2.06.94zm10 10l.94 2.06.94-2.06 2.06-.94-2.06-.94-.94-2.06-.94 2.06-2.06.94z\"/><path d=\"M17.41 7.96l-1.37-1.37c-.4-.4-.92-.59-1.43-.59-.52 0-1.04.2-1.43.59L10.3 9.45l-7.72 7.72c-.78.78-.78 2.05 0 2.83L4 21.41c.39.39.9.59 1.41.59.51 0 1.02-.2 1.41-.59l7.78-7.78 2.81-2.81c.8-.78.8-2.07 0-2.86zM5.41 20L4 18.59l7.72-7.72 1.47 1.35L5.41 20z\"/>\n",
       "  </svg>\n",
       "      </button>\n",
       "      \n",
       "  <style>\n",
       "    .colab-df-container {\n",
       "      display:flex;\n",
       "      flex-wrap:wrap;\n",
       "      gap: 12px;\n",
       "    }\n",
       "\n",
       "    .colab-df-convert {\n",
       "      background-color: #E8F0FE;\n",
       "      border: none;\n",
       "      border-radius: 50%;\n",
       "      cursor: pointer;\n",
       "      display: none;\n",
       "      fill: #1967D2;\n",
       "      height: 32px;\n",
       "      padding: 0 0 0 0;\n",
       "      width: 32px;\n",
       "    }\n",
       "\n",
       "    .colab-df-convert:hover {\n",
       "      background-color: #E2EBFA;\n",
       "      box-shadow: 0px 1px 2px rgba(60, 64, 67, 0.3), 0px 1px 3px 1px rgba(60, 64, 67, 0.15);\n",
       "      fill: #174EA6;\n",
       "    }\n",
       "\n",
       "    [theme=dark] .colab-df-convert {\n",
       "      background-color: #3B4455;\n",
       "      fill: #D2E3FC;\n",
       "    }\n",
       "\n",
       "    [theme=dark] .colab-df-convert:hover {\n",
       "      background-color: #434B5C;\n",
       "      box-shadow: 0px 1px 3px 1px rgba(0, 0, 0, 0.15);\n",
       "      filter: drop-shadow(0px 1px 2px rgba(0, 0, 0, 0.3));\n",
       "      fill: #FFFFFF;\n",
       "    }\n",
       "  </style>\n",
       "\n",
       "      <script>\n",
       "        const buttonEl =\n",
       "          document.querySelector('#df-b2a151d1-cdea-455c-9045-fe45b94139e2 button.colab-df-convert');\n",
       "        buttonEl.style.display =\n",
       "          google.colab.kernel.accessAllowed ? 'block' : 'none';\n",
       "\n",
       "        async function convertToInteractive(key) {\n",
       "          const element = document.querySelector('#df-b2a151d1-cdea-455c-9045-fe45b94139e2');\n",
       "          const dataTable =\n",
       "            await google.colab.kernel.invokeFunction('convertToInteractive',\n",
       "                                                     [key], {});\n",
       "          if (!dataTable) return;\n",
       "\n",
       "          const docLinkHtml = 'Like what you see? Visit the ' +\n",
       "            '<a target=\"_blank\" href=https://colab.research.google.com/notebooks/data_table.ipynb>data table notebook</a>'\n",
       "            + ' to learn more about interactive tables.';\n",
       "          element.innerHTML = '';\n",
       "          dataTable['output_type'] = 'display_data';\n",
       "          await google.colab.output.renderOutput(dataTable, element);\n",
       "          const docLink = document.createElement('div');\n",
       "          docLink.innerHTML = docLinkHtml;\n",
       "          element.appendChild(docLink);\n",
       "        }\n",
       "      </script>\n",
       "    </div>\n",
       "  </div>\n",
       "  "
      ],
      "text/plain": [
       "          0         1\n",
       "0  0.708475  0.291525\n",
       "1  0.533448  0.466552\n",
       "2  0.717871  0.282129\n",
       "3  0.504865  0.495135\n",
       "4  0.555863  0.444137"
      ]
     },
     "execution_count": 186,
     "metadata": {},
     "output_type": "execute_result"
    }
   ],
   "source": [
    "ytest_predict_prob_lda = lda_model.predict_proba(X_test)\n",
    "pd.DataFrame(ytest_predict_prob_lda).head()"
   ]
  },
  {
   "cell_type": "code",
   "execution_count": 187,
   "id": "5f0c9ba6",
   "metadata": {
    "colab": {
     "base_uri": "https://localhost:8080/"
    },
    "id": "3p-W2_CYI1Hr",
    "outputId": "eccf0960-8e41-43ff-9c05-c4bf4cce7b30"
   },
   "outputs": [
    {
     "name": "stdout",
     "output_type": "stream",
     "text": [
      "The coefficient for Salary is -1.3803065402589297e-05\n",
      "The coefficient for age is -0.05779485342767459\n",
      "The coefficient for educ is 0.05860430780475778\n",
      "The coefficient for no_young_children is -1.2827912707427516\n",
      "The coefficient for no_older_children is -0.03756728141585783\n",
      "The coefficient for foreign is 1.3206019493992338\n"
     ]
    }
   ],
   "source": [
    "for idx, col_name in enumerate(X_train.columns):\n",
    "    print(\"The coefficient for {} is {}\".format(col_name, lda_model.coef_[0][idx]))"
   ]
  },
  {
   "cell_type": "markdown",
   "id": "eb7085ec",
   "metadata": {
    "id": "J5E3pRMfpvbu"
   },
   "source": [
    "2.3 Performance Metrics: Check the performance of Predictions on Train and Test sets using Accuracy, Confusion Matrix, Plot ROC curve and get ROC_AUC score for each model Final Model: Compare both the models and write inference which model is best/optimized."
   ]
  },
  {
   "cell_type": "markdown",
   "id": "b12b266f",
   "metadata": {
    "id": "l66qvkZvpxL7"
   },
   "source": [
    "Logistic Regression"
   ]
  },
  {
   "cell_type": "markdown",
   "id": "b30d27b5",
   "metadata": {
    "id": "pZCs_MYHqG2S"
   },
   "source": [
    "Training Data"
   ]
  },
  {
   "cell_type": "code",
   "execution_count": 188,
   "id": "f2cb0547",
   "metadata": {
    "colab": {
     "base_uri": "https://localhost:8080/"
    },
    "id": "Yp-lM0x_n8J0",
    "outputId": "dfcce687-a182-4975-f6e6-b663606e687c"
   },
   "outputs": [
    {
     "data": {
      "text/plain": [
       "0.6672131147540984"
      ]
     },
     "execution_count": 188,
     "metadata": {},
     "output_type": "execute_result"
    }
   ],
   "source": [
    "logistic_train_acc = logistic_model.score(X_train, y_train)\n",
    "logistic_train_acc"
   ]
  },
  {
   "cell_type": "markdown",
   "id": "875dc1fe",
   "metadata": {
    "id": "LW_o2PYWqPZG"
   },
   "source": [
    "AUC and ROC for the training data"
   ]
  },
  {
   "cell_type": "code",
   "execution_count": 189,
   "id": "b58fc93d",
   "metadata": {
    "colab": {
     "base_uri": "https://localhost:8080/",
     "height": 298
    },
    "id": "QefkFrCVqc76",
    "outputId": "029f7219-aa30-45e8-f8c4-77c771b862f4"
   },
   "outputs": [
    {
     "name": "stdout",
     "output_type": "stream",
     "text": [
      "AUC: 0.735\n"
     ]
    },
    {
     "data": {
      "image/png": "[encoded data removed]",
      "text/plain": [
       "<Figure size 432x288 with 1 Axes>"
      ]
     },
     "metadata": {
      "needs_background": "light"
     },
     "output_type": "display_data"
    }
   ],
   "source": [
    "probs_logistic = logistic_model.predict_proba(X_train)\n",
    "probs_logistic = probs_logistic[:, 1]\n",
    "auc_train_logistic = roc_auc_score(y_train, probs_logistic)\n",
    "print('AUC: %.3f' % auc_train_logistic)\n",
    "logistic_train_fpr, logistic_train_tpr, logistic_train_thresholds = roc_curve(y_train, probs_logistic)\n",
    "plt.title('Logistic Regression ROC curve - Training Data')\n",
    "plt.plot([0, 1], [0, 1], linestyle='--')\n",
    "plt.plot(logistic_train_fpr, logistic_train_tpr)\n",
    "plt.show()"
   ]
  },
  {
   "cell_type": "code",
   "execution_count": 190,
   "id": "0419dac6",
   "metadata": {
    "colab": {
     "base_uri": "https://localhost:8080/"
    },
    "id": "FcsOChibsfak",
    "outputId": "10246cb6-62b0-4de2-b073-c52c65264385"
   },
   "outputs": [
    {
     "data": {
      "text/plain": [
       "array([[244,  85],\n",
       "       [118, 163]])"
      ]
     },
     "execution_count": 190,
     "metadata": {},
     "output_type": "execute_result"
    }
   ],
   "source": [
    "confusion_matrix(y_train, ytrain_predict_logistic)"
   ]
  },
  {
   "cell_type": "code",
   "execution_count": 191,
   "id": "96921102",
   "metadata": {
    "colab": {
     "base_uri": "https://localhost:8080/",
     "height": 334
    },
    "id": "SaUGmsZi2cGq",
    "outputId": "017440b1-cacb-454e-e08a-09c55edb920e"
   },
   "outputs": [
    {
     "name": "stderr",
     "output_type": "stream",
     "text": [
      "/usr/local/lib/python3.7/dist-packages/sklearn/utils/deprecation.py:87: FutureWarning: Function plot_confusion_matrix is deprecated; Function `plot_confusion_matrix` is deprecated in 1.0 and will be removed in 1.2. Use one of the class methods: ConfusionMatrixDisplay.from_predictions or ConfusionMatrixDisplay.from_estimator.\n",
      "  warnings.warn(msg, category=FutureWarning)\n"
     ]
    },
    {
     "data": {
      "image/png": "[encoded data removed]",
      "text/plain": [
       "<Figure size 432x288 with 2 Axes>"
      ]
     },
     "metadata": {
      "needs_background": "light"
     },
     "output_type": "display_data"
    }
   ],
   "source": [
    "plot_confusion_matrix(logistic_model,X_train,y_train);"
   ]
  },
  {
   "cell_type": "code",
   "execution_count": 192,
   "id": "73786000",
   "metadata": {
    "colab": {
     "base_uri": "https://localhost:8080/"
    },
    "id": "B3xNRNBztZNB",
    "outputId": "9cd18e86-277e-4df6-915a-c1ad27c43f35"
   },
   "outputs": [
    {
     "name": "stdout",
     "output_type": "stream",
     "text": [
      "              precision    recall  f1-score   support\n",
      "\n",
      "           0       0.67      0.74      0.71       329\n",
      "           1       0.66      0.58      0.62       281\n",
      "\n",
      "    accuracy                           0.67       610\n",
      "   macro avg       0.67      0.66      0.66       610\n",
      "weighted avg       0.67      0.67      0.66       610\n",
      "\n"
     ]
    }
   ],
   "source": [
    "print(classification_report(y_train, ytrain_predict_logistic))"
   ]
  },
  {
   "cell_type": "markdown",
   "id": "0953bc88",
   "metadata": {
    "id": "Yz4gzp5GrfwN"
   },
   "source": [
    "Test Data"
   ]
  },
  {
   "cell_type": "code",
   "execution_count": 193,
   "id": "c063ced2",
   "metadata": {
    "colab": {
     "base_uri": "https://localhost:8080/"
    },
    "id": "K1gw_qCNqJJq",
    "outputId": "5a6cc2a2-302f-48cc-9fa2-518a77240713"
   },
   "outputs": [
    {
     "data": {
      "text/plain": [
       "0.6526717557251909"
      ]
     },
     "execution_count": 193,
     "metadata": {},
     "output_type": "execute_result"
    }
   ],
   "source": [
    "logistic_test_acc = logistic_model.score(X_test, y_test)\n",
    "logistic_test_acc"
   ]
  },
  {
   "cell_type": "markdown",
   "id": "095e80c7",
   "metadata": {
    "id": "MLFBlMJ6rwMz"
   },
   "source": [
    "AUC and ROC for the test data"
   ]
  },
  {
   "cell_type": "code",
   "execution_count": 194,
   "id": "3570d92c",
   "metadata": {
    "colab": {
     "base_uri": "https://localhost:8080/",
     "height": 298
    },
    "id": "hFfO0x8Lr25h",
    "outputId": "7ca1a4a7-b605-4b1f-8d96-21af5ef107e6"
   },
   "outputs": [
    {
     "name": "stdout",
     "output_type": "stream",
     "text": [
      "AUC: 0.717\n"
     ]
    },
    {
     "data": {
      "image/png": "[encoded data removed]",
      "text/plain": [
       "<Figure size 432x288 with 1 Axes>"
      ]
     },
     "metadata": {
      "needs_background": "light"
     },
     "output_type": "display_data"
    }
   ],
   "source": [
    "probs_logistic = logistic_model.predict_proba(X_test)\n",
    "probs_logistic = probs_logistic[:, 1]\n",
    "auc_test_logistic = roc_auc_score(y_test, probs_logistic)\n",
    "print('AUC: %.3f' % auc_test_logistic)\n",
    "logistic_test_fpr, logistic_test_tpr, logistic_test_thresholds = roc_curve(y_test, probs_logistic)\n",
    "plt.title('Logistic Regression ROC curve - Test Data')\n",
    "plt.plot([0, 1], [0, 1], linestyle='--')\n",
    "plt.plot(logistic_test_fpr, logistic_test_tpr)\n",
    "plt.show()"
   ]
  },
  {
   "cell_type": "code",
   "execution_count": 195,
   "id": "39e8229f",
   "metadata": {
    "colab": {
     "base_uri": "https://localhost:8080/"
    },
    "id": "NamfwjkVsJOn",
    "outputId": "1da89d5a-b47e-4c31-c62b-ab60e4fb9d66"
   },
   "outputs": [
    {
     "data": {
      "text/plain": [
       "array([[109,  33],\n",
       "       [ 58,  62]])"
      ]
     },
     "execution_count": 195,
     "metadata": {},
     "output_type": "execute_result"
    }
   ],
   "source": [
    "confusion_matrix(y_test, ytest_predict_logistic)"
   ]
  },
  {
   "cell_type": "code",
   "execution_count": 196,
   "id": "cdd93b5c",
   "metadata": {
    "colab": {
     "base_uri": "https://localhost:8080/",
     "height": 334
    },
    "id": "o041SLr-2xnv",
    "outputId": "c723e9a3-4558-43ea-9641-850aeac950b7"
   },
   "outputs": [
    {
     "name": "stderr",
     "output_type": "stream",
     "text": [
      "/usr/local/lib/python3.7/dist-packages/sklearn/utils/deprecation.py:87: FutureWarning: Function plot_confusion_matrix is deprecated; Function `plot_confusion_matrix` is deprecated in 1.0 and will be removed in 1.2. Use one of the class methods: ConfusionMatrixDisplay.from_predictions or ConfusionMatrixDisplay.from_estimator.\n",
      "  warnings.warn(msg, category=FutureWarning)\n"
     ]
    },
    {
     "data": {
      "image/png": "[encoded data removed]",
      "text/plain": [
       "<Figure size 432x288 with 2 Axes>"
      ]
     },
     "metadata": {
      "needs_background": "light"
     },
     "output_type": "display_data"
    }
   ],
   "source": [
    "plot_confusion_matrix(logistic_model,X_test,y_test);"
   ]
  },
  {
   "cell_type": "code",
   "execution_count": 197,
   "id": "c950897f",
   "metadata": {
    "colab": {
     "base_uri": "https://localhost:8080/"
    },
    "id": "fRwRJ97btk23",
    "outputId": "d89f0583-7725-481b-83be-936894109d39"
   },
   "outputs": [
    {
     "name": "stdout",
     "output_type": "stream",
     "text": [
      "              precision    recall  f1-score   support\n",
      "\n",
      "           0       0.65      0.77      0.71       142\n",
      "           1       0.65      0.52      0.58       120\n",
      "\n",
      "    accuracy                           0.65       262\n",
      "   macro avg       0.65      0.64      0.64       262\n",
      "weighted avg       0.65      0.65      0.65       262\n",
      "\n"
     ]
    }
   ],
   "source": [
    "print(classification_report(y_test, ytest_predict_logistic))"
   ]
  },
  {
   "cell_type": "markdown",
   "id": "f2902180",
   "metadata": {
    "id": "YPs8TXncuei5"
   },
   "source": [
    "Applying GridSearchCV for Logistic Regression"
   ]
  },
  {
   "cell_type": "markdown",
   "id": "eab62bd8",
   "metadata": {
    "id": "9bpentv3u3b8"
   },
   "source": [
    "Training Data"
   ]
  },
  {
   "cell_type": "code",
   "execution_count": 198,
   "id": "64841868",
   "metadata": {
    "colab": {
     "base_uri": "https://localhost:8080/"
    },
    "id": "SHSHA24ltpb8",
    "outputId": "b9a11420-470c-4876-97ad-412b51cb534e"
   },
   "outputs": [
    {
     "data": {
      "text/plain": [
       "0.6639344262295082"
      ]
     },
     "execution_count": 198,
     "metadata": {},
     "output_type": "execute_result"
    }
   ],
   "source": [
    "logistic_grid_train_acc = best_grid_logistic.score(X_train, y_train)\n",
    "logistic_grid_train_acc"
   ]
  },
  {
   "cell_type": "markdown",
   "id": "81afcc81",
   "metadata": {
    "id": "vlf9IdP_u90v"
   },
   "source": [
    "AUC and ROC for the training data"
   ]
  },
  {
   "cell_type": "code",
   "execution_count": 199,
   "id": "3242d80d",
   "metadata": {
    "colab": {
     "base_uri": "https://localhost:8080/",
     "height": 298
    },
    "id": "QbadrzsM3VjH",
    "outputId": "c56674d1-da90-4292-bfd0-98558179c775"
   },
   "outputs": [
    {
     "name": "stdout",
     "output_type": "stream",
     "text": [
      "AUC: 0.731\n"
     ]
    },
    {
     "data": {
      "image/png": "[encoded data removed]",
      "text/plain": [
       "<Figure size 432x288 with 1 Axes>"
      ]
     },
     "metadata": {
      "needs_background": "light"
     },
     "output_type": "display_data"
    }
   ],
   "source": [
    "probs_logistic_grid = grid_search_logistic.predict_proba(X_train)\n",
    "probs_logistic_grid = probs_logistic_grid[:, 1]\n",
    "auc_train_logistic_grid = roc_auc_score(y_train, probs_logistic_grid)\n",
    "print('AUC: %.3f' % auc_train_logistic_grid)\n",
    "logistic_grid_train_fpr, logistic_grid_train_tpr, logistic_grid_train_thresholds = roc_curve(y_train, probs_logistic_grid)\n",
    "plt.title('Logistic Regression using GridSearchCV ROC curve - Training Data')\n",
    "plt.plot([0, 1], [0, 1], linestyle='--')\n",
    "plt.plot(logistic_grid_train_fpr, logistic_grid_train_tpr)\n",
    "plt.show()"
   ]
  },
  {
   "cell_type": "code",
   "execution_count": 200,
   "id": "34c3463b",
   "metadata": {
    "colab": {
     "base_uri": "https://localhost:8080/"
    },
    "id": "JT4GhLhjuz_V",
    "outputId": "34006fb1-289b-40d7-e8a5-094fcfab1bcc"
   },
   "outputs": [
    {
     "data": {
      "text/plain": [
       "array([[249,  80],\n",
       "       [125, 156]])"
      ]
     },
     "execution_count": 200,
     "metadata": {},
     "output_type": "execute_result"
    }
   ],
   "source": [
    "confusion_matrix(y_train, ytrain_predict_grid)"
   ]
  },
  {
   "cell_type": "code",
   "execution_count": 201,
   "id": "27ef87cc",
   "metadata": {
    "colab": {
     "base_uri": "https://localhost:8080/",
     "height": 351
    },
    "id": "SzAgXhJu292r",
    "outputId": "549369e0-750d-4653-db30-c158f5beea0a"
   },
   "outputs": [
    {
     "name": "stderr",
     "output_type": "stream",
     "text": [
      "/usr/local/lib/python3.7/dist-packages/sklearn/utils/deprecation.py:87: FutureWarning: Function plot_confusion_matrix is deprecated; Function `plot_confusion_matrix` is deprecated in 1.0 and will be removed in 1.2. Use one of the class methods: ConfusionMatrixDisplay.from_predictions or ConfusionMatrixDisplay.from_estimator.\n",
      "  warnings.warn(msg, category=FutureWarning)\n"
     ]
    },
    {
     "data": {
      "text/plain": [
       "<sklearn.metrics._plot.confusion_matrix.ConfusionMatrixDisplay at 0x7fe9426b3cd0>"
      ]
     },
     "execution_count": 201,
     "metadata": {},
     "output_type": "execute_result"
    },
    {
     "data": {
      "image/png": "[encoded data removed]",
      "text/plain": [
       "<Figure size 432x288 with 2 Axes>"
      ]
     },
     "metadata": {
      "needs_background": "light"
     },
     "output_type": "display_data"
    }
   ],
   "source": [
    "plot_confusion_matrix(best_grid_logistic,X_train,y_train)"
   ]
  },
  {
   "cell_type": "code",
   "execution_count": 202,
   "id": "0da9f056",
   "metadata": {
    "colab": {
     "base_uri": "https://localhost:8080/"
    },
    "id": "Pr0Fj2-yvsF6",
    "outputId": "5f97c4cc-94cf-4910-ecf2-2bd23d7d85dc"
   },
   "outputs": [
    {
     "name": "stdout",
     "output_type": "stream",
     "text": [
      "              precision    recall  f1-score   support\n",
      "\n",
      "           0       0.67      0.76      0.71       329\n",
      "           1       0.66      0.56      0.60       281\n",
      "\n",
      "    accuracy                           0.66       610\n",
      "   macro avg       0.66      0.66      0.66       610\n",
      "weighted avg       0.66      0.66      0.66       610\n",
      "\n"
     ]
    }
   ],
   "source": [
    "print(classification_report(y_train, ytrain_predict_grid))"
   ]
  },
  {
   "cell_type": "markdown",
   "id": "aa4bc9e2",
   "metadata": {
    "id": "AO9BEstwu7r3"
   },
   "source": [
    "Test Data"
   ]
  },
  {
   "cell_type": "code",
   "execution_count": 203,
   "id": "34dcb28d",
   "metadata": {
    "colab": {
     "base_uri": "https://localhost:8080/"
    },
    "id": "w0YkjSH_u88D",
    "outputId": "c1ec6fe6-dacf-46ab-8015-226400c53599"
   },
   "outputs": [
    {
     "data": {
      "text/plain": [
       "0.6564885496183206"
      ]
     },
     "execution_count": 203,
     "metadata": {},
     "output_type": "execute_result"
    }
   ],
   "source": [
    "logistic_grid_test_acc = best_grid_logistic.score(X_test, y_test)\n",
    "logistic_grid_test_acc"
   ]
  },
  {
   "cell_type": "markdown",
   "id": "0077ed97",
   "metadata": {
    "id": "7fOALw9uvAuK"
   },
   "source": [
    "AUC and ROC for the test data"
   ]
  },
  {
   "cell_type": "code",
   "execution_count": 204,
   "id": "119a203b",
   "metadata": {
    "colab": {
     "base_uri": "https://localhost:8080/",
     "height": 298
    },
    "id": "TslY-Xk34F-T",
    "outputId": "222a2b8a-e2e7-4492-8977-380b37d2ff9c"
   },
   "outputs": [
    {
     "name": "stdout",
     "output_type": "stream",
     "text": [
      "AUC: 0.715\n"
     ]
    },
    {
     "data": {
      "image/png": "[encoded data removed]",
      "text/plain": [
       "<Figure size 432x288 with 1 Axes>"
      ]
     },
     "metadata": {
      "needs_background": "light"
     },
     "output_type": "display_data"
    }
   ],
   "source": [
    "probs_logistic_grid = grid_search_logistic.predict_proba(X_test)\n",
    "probs_logistic_grid = probs_logistic_grid[:, 1]\n",
    "auc_test_logistic_grid = roc_auc_score(y_test, probs_logistic_grid)\n",
    "print('AUC: %.3f' % auc_test_logistic_grid)\n",
    "logistic_grid_test_fpr, logistic_grid_test_tpr, logistic_grid_test_thresholds = roc_curve(y_test, probs_logistic_grid)\n",
    "plt.title('Logistic Regression using GridSearchCV ROC curve - Test Data')\n",
    "plt.plot([0, 1], [0, 1], linestyle='--')\n",
    "plt.plot(logistic_grid_test_fpr, logistic_grid_test_tpr)\n",
    "plt.show()"
   ]
  },
  {
   "cell_type": "code",
   "execution_count": 205,
   "id": "ab8c8365",
   "metadata": {
    "colab": {
     "base_uri": "https://localhost:8080/"
    },
    "id": "tQ2TMytGvBNm",
    "outputId": "f1b8c262-fc17-4bc9-fea6-7226dccd8441"
   },
   "outputs": [
    {
     "data": {
      "text/plain": [
       "array([[110,  32],\n",
       "       [ 58,  62]])"
      ]
     },
     "execution_count": 205,
     "metadata": {},
     "output_type": "execute_result"
    }
   ],
   "source": [
    "confusion_matrix(y_test, ytest_predict_grid)"
   ]
  },
  {
   "cell_type": "code",
   "execution_count": 206,
   "id": "cf91636f",
   "metadata": {
    "colab": {
     "base_uri": "https://localhost:8080/",
     "height": 355
    },
    "id": "7XQAHsEw3KTu",
    "outputId": "0917acbb-ce95-41ee-ec50-479fe6f77ee1"
   },
   "outputs": [
    {
     "name": "stderr",
     "output_type": "stream",
     "text": [
      "/usr/local/lib/python3.7/dist-packages/sklearn/utils/deprecation.py:87: FutureWarning: Function plot_confusion_matrix is deprecated; Function `plot_confusion_matrix` is deprecated in 1.0 and will be removed in 1.2. Use one of the class methods: ConfusionMatrixDisplay.from_predictions or ConfusionMatrixDisplay.from_estimator.\n",
      "  warnings.warn(msg, category=FutureWarning)\n"
     ]
    },
    {
     "data": {
      "text/plain": [
       "<sklearn.metrics._plot.confusion_matrix.ConfusionMatrixDisplay at 0x7fe9425f0650>"
      ]
     },
     "execution_count": 206,
     "metadata": {},
     "output_type": "execute_result"
    },
    {
     "data": {
      "image/png": "[encoded data removed]",
      "text/plain": [
       "<Figure size 432x288 with 2 Axes>"
      ]
     },
     "metadata": {
      "needs_background": "light"
     },
     "output_type": "display_data"
    }
   ],
   "source": [
    "plot_confusion_matrix(best_grid_logistic,X_test,y_test)"
   ]
  },
  {
   "cell_type": "code",
   "execution_count": 207,
   "id": "005af205",
   "metadata": {
    "colab": {
     "base_uri": "https://localhost:8080/"
    },
    "id": "JZfOvHX1v43E",
    "outputId": "882d6064-c4f3-4494-95d0-5466417cb43f"
   },
   "outputs": [
    {
     "name": "stdout",
     "output_type": "stream",
     "text": [
      "              precision    recall  f1-score   support\n",
      "\n",
      "           0       0.65      0.77      0.71       142\n",
      "           1       0.66      0.52      0.58       120\n",
      "\n",
      "    accuracy                           0.66       262\n",
      "   macro avg       0.66      0.65      0.64       262\n",
      "weighted avg       0.66      0.66      0.65       262\n",
      "\n"
     ]
    }
   ],
   "source": [
    "print(classification_report(y_test, ytest_predict_grid))"
   ]
  },
  {
   "cell_type": "markdown",
   "id": "e0daebc9",
   "metadata": {
    "id": "21TFAaBwwJUp"
   },
   "source": [
    "Linear Discriminant Analysis"
   ]
  },
  {
   "cell_type": "markdown",
   "id": "db449fa7",
   "metadata": {
    "id": "cFv17AjlwMhp"
   },
   "source": [
    "Training Data"
   ]
  },
  {
   "cell_type": "code",
   "execution_count": 208,
   "id": "7a5dd75e",
   "metadata": {
    "colab": {
     "base_uri": "https://localhost:8080/"
    },
    "id": "Vcy42owzwqW4",
    "outputId": "657387ce-b818-41e6-92b8-bf05ed5d3f63"
   },
   "outputs": [
    {
     "data": {
      "text/plain": [
       "0.6639344262295082"
      ]
     },
     "execution_count": 208,
     "metadata": {},
     "output_type": "execute_result"
    }
   ],
   "source": [
    "lda_train_acc = lda_model.score(X_train, y_train)\n",
    "lda_train_acc"
   ]
  },
  {
   "cell_type": "code",
   "execution_count": 209,
   "id": "1a0ed673",
   "metadata": {
    "colab": {
     "base_uri": "https://localhost:8080/",
     "height": 298
    },
    "id": "Y61mE98_x69x",
    "outputId": "7d6e3bce-8ee4-432e-e6b5-281d5065a3a7"
   },
   "outputs": [
    {
     "name": "stdout",
     "output_type": "stream",
     "text": [
      "AUC: 0.733\n"
     ]
    },
    {
     "data": {
      "image/png": "[encoded data removed]",
      "text/plain": [
       "<Figure size 432x288 with 1 Axes>"
      ]
     },
     "metadata": {
      "needs_background": "light"
     },
     "output_type": "display_data"
    }
   ],
   "source": [
    "probs_lda = lda_model.predict_proba(X_train)\n",
    "probs_lda = probs_lda[:, 1]\n",
    "auc_train_lda = roc_auc_score(y_train, probs_lda)\n",
    "print('AUC: %.3f' % auc_train_lda)\n",
    "lda_train_fpr, lda_train_tpr, lda_train_thresholds = roc_curve(y_train, probs_lda)\n",
    "plt.title('Linear Discriminant Analysis ROC curve - Training Data')\n",
    "plt.plot([0, 1], [0, 1], linestyle='--')\n",
    "plt.plot(lda_train_fpr, lda_train_tpr)\n",
    "plt.show()"
   ]
  },
  {
   "cell_type": "code",
   "execution_count": 210,
   "id": "efad6edb",
   "metadata": {
    "colab": {
     "base_uri": "https://localhost:8080/"
    },
    "id": "P6k7e8Rvv8gn",
    "outputId": "713f7c61-7adc-470d-e2a7-f001ab9a3795"
   },
   "outputs": [
    {
     "data": {
      "text/plain": [
       "array([[243,  86],\n",
       "       [119, 162]])"
      ]
     },
     "execution_count": 210,
     "metadata": {},
     "output_type": "execute_result"
    }
   ],
   "source": [
    "confusion_matrix(y_train, ytrain_predict_lda)"
   ]
  },
  {
   "cell_type": "code",
   "execution_count": 211,
   "id": "0d710982",
   "metadata": {
    "colab": {
     "base_uri": "https://localhost:8080/",
     "height": 351
    },
    "id": "eJWtWDyCLzuF",
    "outputId": "5975ed66-9d3d-4b73-93e7-98e2c91e3e22"
   },
   "outputs": [
    {
     "name": "stderr",
     "output_type": "stream",
     "text": [
      "/usr/local/lib/python3.7/dist-packages/sklearn/utils/deprecation.py:87: FutureWarning: Function plot_confusion_matrix is deprecated; Function `plot_confusion_matrix` is deprecated in 1.0 and will be removed in 1.2. Use one of the class methods: ConfusionMatrixDisplay.from_predictions or ConfusionMatrixDisplay.from_estimator.\n",
      "  warnings.warn(msg, category=FutureWarning)\n"
     ]
    },
    {
     "data": {
      "text/plain": [
       "<sklearn.metrics._plot.confusion_matrix.ConfusionMatrixDisplay at 0x7fe942616c10>"
      ]
     },
     "execution_count": 211,
     "metadata": {},
     "output_type": "execute_result"
    },
    {
     "data": {
      "image/png": "[encoded data removed]",
      "text/plain": [
       "<Figure size 432x288 with 2 Axes>"
      ]
     },
     "metadata": {
      "needs_background": "light"
     },
     "output_type": "display_data"
    }
   ],
   "source": [
    "plot_confusion_matrix(lda_model,X_train,y_train)"
   ]
  },
  {
   "cell_type": "code",
   "execution_count": 212,
   "id": "f6dde6fd",
   "metadata": {
    "colab": {
     "base_uri": "https://localhost:8080/"
    },
    "id": "agP52Jbdwg_7",
    "outputId": "d43cbbde-32e4-4fad-c69d-eb1243c72daa"
   },
   "outputs": [
    {
     "name": "stdout",
     "output_type": "stream",
     "text": [
      "              precision    recall  f1-score   support\n",
      "\n",
      "           0       0.67      0.74      0.70       329\n",
      "           1       0.65      0.58      0.61       281\n",
      "\n",
      "    accuracy                           0.66       610\n",
      "   macro avg       0.66      0.66      0.66       610\n",
      "weighted avg       0.66      0.66      0.66       610\n",
      "\n"
     ]
    }
   ],
   "source": [
    "print(classification_report(y_train, ytrain_predict_lda))"
   ]
  },
  {
   "cell_type": "markdown",
   "id": "dbb2b06a",
   "metadata": {
    "id": "mRy0CPyvwOU0"
   },
   "source": [
    "Test Data"
   ]
  },
  {
   "cell_type": "code",
   "execution_count": 213,
   "id": "4bdb131d",
   "metadata": {
    "colab": {
     "base_uri": "https://localhost:8080/"
    },
    "id": "vBHoA97wwsFH",
    "outputId": "f23eba57-f7ae-4913-87ba-dc770bc12ca4"
   },
   "outputs": [
    {
     "data": {
      "text/plain": [
       "0.6412213740458015"
      ]
     },
     "execution_count": 213,
     "metadata": {},
     "output_type": "execute_result"
    }
   ],
   "source": [
    "lda_test_acc = lda_model.score(X_test, y_test)\n",
    "lda_test_acc"
   ]
  },
  {
   "cell_type": "code",
   "execution_count": 214,
   "id": "11303315",
   "metadata": {
    "colab": {
     "base_uri": "https://localhost:8080/",
     "height": 298
    },
    "id": "Hik7T1BnyTuk",
    "outputId": "aba54ff0-e42c-448e-8a95-ba408657ac93"
   },
   "outputs": [
    {
     "name": "stdout",
     "output_type": "stream",
     "text": [
      "AUC: 0.714\n"
     ]
    },
    {
     "data": {
      "image/png": "[encoded data removed]",
      "text/plain": [
       "<Figure size 432x288 with 1 Axes>"
      ]
     },
     "metadata": {
      "needs_background": "light"
     },
     "output_type": "display_data"
    }
   ],
   "source": [
    "probs_lda = lda_model.predict_proba(X_test)\n",
    "probs_lda = probs_lda[:, 1]\n",
    "auc_test_lda = roc_auc_score(y_test, probs_lda)\n",
    "print('AUC: %.3f' % auc_test_lda)\n",
    "lda_test_fpr, lda_test_tpr, lda_test_thresholds = roc_curve(y_test, probs_lda)\n",
    "plt.title('Linear Discriminant Analysis ROC curve - Test Data')\n",
    "plt.plot([0, 1], [0, 1], linestyle='--')\n",
    "plt.plot(lda_test_fpr, lda_test_tpr)\n",
    "plt.show()"
   ]
  },
  {
   "cell_type": "code",
   "execution_count": 215,
   "id": "7a552be1",
   "metadata": {
    "colab": {
     "base_uri": "https://localhost:8080/"
    },
    "id": "74O6xq6MwPiM",
    "outputId": "594d01ac-8a33-4bb9-ea10-1f05b5687316"
   },
   "outputs": [
    {
     "data": {
      "text/plain": [
       "array([[109,  33],\n",
       "       [ 61,  59]])"
      ]
     },
     "execution_count": 215,
     "metadata": {},
     "output_type": "execute_result"
    }
   ],
   "source": [
    "confusion_matrix(y_test, ytest_predict_lda)"
   ]
  },
  {
   "cell_type": "code",
   "execution_count": 216,
   "id": "c9e067ad",
   "metadata": {
    "colab": {
     "base_uri": "https://localhost:8080/",
     "height": 351
    },
    "id": "UZX6nnRPL62C",
    "outputId": "46d8c603-8f1e-4346-ddfd-d5ac520dfbeb"
   },
   "outputs": [
    {
     "name": "stderr",
     "output_type": "stream",
     "text": [
      "/usr/local/lib/python3.7/dist-packages/sklearn/utils/deprecation.py:87: FutureWarning: Function plot_confusion_matrix is deprecated; Function `plot_confusion_matrix` is deprecated in 1.0 and will be removed in 1.2. Use one of the class methods: ConfusionMatrixDisplay.from_predictions or ConfusionMatrixDisplay.from_estimator.\n",
      "  warnings.warn(msg, category=FutureWarning)\n"
     ]
    },
    {
     "data": {
      "text/plain": [
       "<sklearn.metrics._plot.confusion_matrix.ConfusionMatrixDisplay at 0x7fe942339ad0>"
      ]
     },
     "execution_count": 216,
     "metadata": {},
     "output_type": "execute_result"
    },
    {
     "data": {
      "image/png": "[encoded data removed]",
      "text/plain": [
       "<Figure size 432x288 with 2 Axes>"
      ]
     },
     "metadata": {
      "needs_background": "light"
     },
     "output_type": "display_data"
    }
   ],
   "source": [
    "plot_confusion_matrix(lda_model,X_test,y_test)"
   ]
  },
  {
   "cell_type": "code",
   "execution_count": 217,
   "id": "bf56b25a",
   "metadata": {
    "colab": {
     "base_uri": "https://localhost:8080/"
    },
    "id": "Txjqm68RwYZ1",
    "outputId": "d321b8a6-b218-4510-d71a-7ba00a89f3b4"
   },
   "outputs": [
    {
     "name": "stdout",
     "output_type": "stream",
     "text": [
      "              precision    recall  f1-score   support\n",
      "\n",
      "           0       0.64      0.77      0.70       142\n",
      "           1       0.64      0.49      0.56       120\n",
      "\n",
      "    accuracy                           0.64       262\n",
      "   macro avg       0.64      0.63      0.63       262\n",
      "weighted avg       0.64      0.64      0.63       262\n",
      "\n"
     ]
    }
   ],
   "source": [
    "print(classification_report(y_test, ytest_predict_lda))"
   ]
  },
  {
   "cell_type": "markdown",
   "id": "19f86409",
   "metadata": {
    "id": "xEniU3HH_osq"
   },
   "source": [
    "Compare all the models"
   ]
  },
  {
   "cell_type": "code",
   "execution_count": 218,
   "id": "819643e1",
   "metadata": {
    "colab": {
     "base_uri": "https://localhost:8080/"
    },
    "id": "6u_lotWSwk1h",
    "outputId": "a943ed33-d42e-4a03-922a-1ee8dffe3b24"
   },
   "outputs": [
    {
     "name": "stdout",
     "output_type": "stream",
     "text": [
      "logistic_train_precision  0.66\n",
      "logistic_train_recall  0.58\n",
      "logistic_train_f1  0.62\n",
      "logistic_test_precision  0.65\n",
      "logistic_test_recall  0.52\n",
      "logistic_test_f1  0.58\n"
     ]
    }
   ],
   "source": [
    "logistic_metrics=classification_report(y_train, ytrain_predict_logistic,output_dict=True)\n",
    "df=pd.DataFrame(logistic_metrics).transpose()\n",
    "logistic_train_f1=round(df.loc[\"1\"][2],2)\n",
    "logistic_train_recall=round(df.loc[\"1\"][1],2)\n",
    "logistic_train_precision=round(df.loc[\"1\"][0],2)\n",
    "print ('logistic_train_precision ',logistic_train_precision)\n",
    "print ('logistic_train_recall ',logistic_train_recall)\n",
    "print ('logistic_train_f1 ',logistic_train_f1)\n",
    "logistic_test_metrics=classification_report(y_test, ytest_predict_logistic,output_dict=True)\n",
    "df=pd.DataFrame(logistic_test_metrics).transpose()\n",
    "logistic_test_precision=round(df.loc[\"1\"][0],2)\n",
    "logistic_test_recall=round(df.loc[\"1\"][1],2)\n",
    "logistic_test_f1=round(df.loc[\"1\"][2],2)\n",
    "print ('logistic_test_precision ',logistic_test_precision)\n",
    "print ('logistic_test_recall ',logistic_test_recall)\n",
    "print ('logistic_test_f1 ',logistic_test_f1)"
   ]
  },
  {
   "cell_type": "code",
   "execution_count": 219,
   "id": "7d6573e2",
   "metadata": {
    "colab": {
     "base_uri": "https://localhost:8080/"
    },
    "id": "v6u2Fs2_5BUY",
    "outputId": "c20df034-55dc-44ad-81fa-8b084a3365d1"
   },
   "outputs": [
    {
     "name": "stdout",
     "output_type": "stream",
     "text": [
      "logistic_grid_train_precision  0.66\n",
      "logistic_grid_train_recall  0.56\n",
      "logistic_grid_train_f1  0.6\n",
      "logistic_grid_test_precision  0.66\n",
      "logistic_grid_test_recall  0.52\n",
      "logistic_grid_test_f1  0.58\n"
     ]
    }
   ],
   "source": [
    "logistic_grid_metrics=classification_report(y_train, ytrain_predict_grid,output_dict=True)\n",
    "df=pd.DataFrame(logistic_grid_metrics).transpose()\n",
    "logistic_grid_train_f1=round(df.loc[\"1\"][2],2)\n",
    "logistic_grid_train_recall=round(df.loc[\"1\"][1],2)\n",
    "logistic_grid_train_precision=round(df.loc[\"1\"][0],2)\n",
    "print ('logistic_grid_train_precision ',logistic_grid_train_precision)\n",
    "print ('logistic_grid_train_recall ',logistic_grid_train_recall)\n",
    "print ('logistic_grid_train_f1 ',logistic_grid_train_f1)\n",
    "logistic_grid_test_metrics=classification_report(y_test, ytest_predict_grid,output_dict=True)\n",
    "df=pd.DataFrame(logistic_grid_test_metrics).transpose()\n",
    "logistic_grid_test_precision=round(df.loc[\"1\"][0],2)\n",
    "logistic_grid_test_recall=round(df.loc[\"1\"][1],2)\n",
    "logistic_grid_test_f1=round(df.loc[\"1\"][2],2)\n",
    "print ('logistic_grid_test_precision ',logistic_grid_test_precision)\n",
    "print ('logistic_grid_test_recall ',logistic_grid_test_recall)\n",
    "print ('logistic_grid_test_f1 ',logistic_grid_test_f1)"
   ]
  },
  {
   "cell_type": "code",
   "execution_count": 220,
   "id": "8ea2b47b",
   "metadata": {
    "colab": {
     "base_uri": "https://localhost:8080/"
    },
    "id": "Y4w3Pg5b66DC",
    "outputId": "dd06495b-9584-46f2-86f0-0caa6c0bd3b2"
   },
   "outputs": [
    {
     "name": "stdout",
     "output_type": "stream",
     "text": [
      "lda_train_precision  0.65\n",
      "lda_train_recall  0.58\n",
      "lda_train_f1  0.61\n",
      "lda_test_precision  0.64\n",
      "lda_test_recall  0.49\n",
      "lda_test_f1  0.56\n"
     ]
    }
   ],
   "source": [
    "lda_metrics=classification_report(y_train, ytrain_predict_lda,output_dict=True)\n",
    "df=pd.DataFrame(lda_metrics).transpose()\n",
    "lda_train_f1=round(df.loc[\"1\"][2],2)\n",
    "lda_train_recall=round(df.loc[\"1\"][1],2)\n",
    "lda_train_precision=round(df.loc[\"1\"][0],2)\n",
    "print ('lda_train_precision ',lda_train_precision)\n",
    "print ('lda_train_recall ',lda_train_recall)\n",
    "print ('lda_train_f1 ',lda_train_f1)\n",
    "lda_test_metrics=classification_report(y_test, ytest_predict_lda,output_dict=True)\n",
    "df=pd.DataFrame(lda_test_metrics).transpose()\n",
    "lda_test_precision=round(df.loc[\"1\"][0],2)\n",
    "lda_test_recall=round(df.loc[\"1\"][1],2)\n",
    "lda_test_f1=round(df.loc[\"1\"][2],2)\n",
    "print ('lda_test_precision ',lda_test_precision)\n",
    "print ('lda_test_recall ',lda_test_recall)\n",
    "print ('lda_test_f1 ',lda_test_f1)"
   ]
  },
  {
   "cell_type": "code",
   "execution_count": 221,
   "id": "0a833c6f",
   "metadata": {
    "colab": {
     "base_uri": "https://localhost:8080/",
     "height": 206
    },
    "id": "z-_DZvdl7bF6",
    "outputId": "aaebd3b3-d44d-4cb2-93b2-59359c8a18a1"
   },
   "outputs": [
    {
     "data": {
      "text/html": [
       "\n",
       "  <div id=\"df-e1fec064-d2ef-490b-954f-b66419b6eae9\">\n",
       "    <div class=\"colab-df-container\">\n",
       "      <div>\n",
       "<style scoped>\n",
       "    .dataframe tbody tr th:only-of-type {\n",
       "        vertical-align: middle;\n",
       "    }\n",
       "\n",
       "    .dataframe tbody tr th {\n",
       "        vertical-align: top;\n",
       "    }\n",
       "\n",
       "    .dataframe thead th {\n",
       "        text-align: right;\n",
       "    }\n",
       "</style>\n",
       "<table border=\"1\" class=\"dataframe\">\n",
       "  <thead>\n",
       "    <tr style=\"text-align: right;\">\n",
       "      <th></th>\n",
       "      <th>Logistic Regression Train</th>\n",
       "      <th>Logistic Regression Test</th>\n",
       "      <th>Logistic Regression Grid Train</th>\n",
       "      <th>Logistic Regression Grid Test</th>\n",
       "      <th>LDA Train</th>\n",
       "      <th>LDA Test</th>\n",
       "    </tr>\n",
       "  </thead>\n",
       "  <tbody>\n",
       "    <tr>\n",
       "      <th>Accuracy</th>\n",
       "      <td>0.67</td>\n",
       "      <td>0.67</td>\n",
       "      <td>0.66</td>\n",
       "      <td>0.66</td>\n",
       "      <td>0.66</td>\n",
       "      <td>0.64</td>\n",
       "    </tr>\n",
       "    <tr>\n",
       "      <th>AUC</th>\n",
       "      <td>0.74</td>\n",
       "      <td>0.74</td>\n",
       "      <td>0.73</td>\n",
       "      <td>0.72</td>\n",
       "      <td>0.73</td>\n",
       "      <td>0.71</td>\n",
       "    </tr>\n",
       "    <tr>\n",
       "      <th>Recall</th>\n",
       "      <td>0.58</td>\n",
       "      <td>0.52</td>\n",
       "      <td>0.56</td>\n",
       "      <td>0.52</td>\n",
       "      <td>0.58</td>\n",
       "      <td>0.49</td>\n",
       "    </tr>\n",
       "    <tr>\n",
       "      <th>Precision</th>\n",
       "      <td>0.66</td>\n",
       "      <td>0.65</td>\n",
       "      <td>0.66</td>\n",
       "      <td>0.66</td>\n",
       "      <td>0.65</td>\n",
       "      <td>0.64</td>\n",
       "    </tr>\n",
       "    <tr>\n",
       "      <th>F1 Score</th>\n",
       "      <td>0.62</td>\n",
       "      <td>0.58</td>\n",
       "      <td>0.60</td>\n",
       "      <td>0.58</td>\n",
       "      <td>0.61</td>\n",
       "      <td>0.56</td>\n",
       "    </tr>\n",
       "  </tbody>\n",
       "</table>\n",
       "</div>\n",
       "      <button class=\"colab-df-convert\" onclick=\"convertToInteractive('df-e1fec064-d2ef-490b-954f-b66419b6eae9')\"\n",
       "              title=\"Convert this dataframe to an interactive table.\"\n",
       "              style=\"display:none;\">\n",
       "        \n",
       "  <svg xmlns=\"http://www.w3.org/2000/svg\" height=\"24px\"viewBox=\"0 0 24 24\"\n",
       "       width=\"24px\">\n",
       "    <path d=\"M0 0h24v24H0V0z\" fill=\"none\"/>\n",
       "    <path d=\"M18.56 5.44l.94 2.06.94-2.06 2.06-.94-2.06-.94-.94-2.06-.94 2.06-2.06.94zm-11 1L8.5 8.5l.94-2.06 2.06-.94-2.06-.94L8.5 2.5l-.94 2.06-2.06.94zm10 10l.94 2.06.94-2.06 2.06-.94-2.06-.94-.94-2.06-.94 2.06-2.06.94z\"/><path d=\"M17.41 7.96l-1.37-1.37c-.4-.4-.92-.59-1.43-.59-.52 0-1.04.2-1.43.59L10.3 9.45l-7.72 7.72c-.78.78-.78 2.05 0 2.83L4 21.41c.39.39.9.59 1.41.59.51 0 1.02-.2 1.41-.59l7.78-7.78 2.81-2.81c.8-.78.8-2.07 0-2.86zM5.41 20L4 18.59l7.72-7.72 1.47 1.35L5.41 20z\"/>\n",
       "  </svg>\n",
       "      </button>\n",
       "      \n",
       "  <style>\n",
       "    .colab-df-container {\n",
       "      display:flex;\n",
       "      flex-wrap:wrap;\n",
       "      gap: 12px;\n",
       "    }\n",
       "\n",
       "    .colab-df-convert {\n",
       "      background-color: #E8F0FE;\n",
       "      border: none;\n",
       "      border-radius: 50%;\n",
       "      cursor: pointer;\n",
       "      display: none;\n",
       "      fill: #1967D2;\n",
       "      height: 32px;\n",
       "      padding: 0 0 0 0;\n",
       "      width: 32px;\n",
       "    }\n",
       "\n",
       "    .colab-df-convert:hover {\n",
       "      background-color: #E2EBFA;\n",
       "      box-shadow: 0px 1px 2px rgba(60, 64, 67, 0.3), 0px 1px 3px 1px rgba(60, 64, 67, 0.15);\n",
       "      fill: #174EA6;\n",
       "    }\n",
       "\n",
       "    [theme=dark] .colab-df-convert {\n",
       "      background-color: #3B4455;\n",
       "      fill: #D2E3FC;\n",
       "    }\n",
       "\n",
       "    [theme=dark] .colab-df-convert:hover {\n",
       "      background-color: #434B5C;\n",
       "      box-shadow: 0px 1px 3px 1px rgba(0, 0, 0, 0.15);\n",
       "      filter: drop-shadow(0px 1px 2px rgba(0, 0, 0, 0.3));\n",
       "      fill: #FFFFFF;\n",
       "    }\n",
       "  </style>\n",
       "\n",
       "      <script>\n",
       "        const buttonEl =\n",
       "          document.querySelector('#df-e1fec064-d2ef-490b-954f-b66419b6eae9 button.colab-df-convert');\n",
       "        buttonEl.style.display =\n",
       "          google.colab.kernel.accessAllowed ? 'block' : 'none';\n",
       "\n",
       "        async function convertToInteractive(key) {\n",
       "          const element = document.querySelector('#df-e1fec064-d2ef-490b-954f-b66419b6eae9');\n",
       "          const dataTable =\n",
       "            await google.colab.kernel.invokeFunction('convertToInteractive',\n",
       "                                                     [key], {});\n",
       "          if (!dataTable) return;\n",
       "\n",
       "          const docLinkHtml = 'Like what you see? Visit the ' +\n",
       "            '<a target=\"_blank\" href=https://colab.research.google.com/notebooks/data_table.ipynb>data table notebook</a>'\n",
       "            + ' to learn more about interactive tables.';\n",
       "          element.innerHTML = '';\n",
       "          dataTable['output_type'] = 'display_data';\n",
       "          await google.colab.output.renderOutput(dataTable, element);\n",
       "          const docLink = document.createElement('div');\n",
       "          docLink.innerHTML = docLinkHtml;\n",
       "          element.appendChild(docLink);\n",
       "        }\n",
       "      </script>\n",
       "    </div>\n",
       "  </div>\n",
       "  "
      ],
      "text/plain": [
       "           Logistic Regression Train  ...  LDA Test\n",
       "Accuracy                        0.67  ...      0.64\n",
       "AUC                             0.74  ...      0.71\n",
       "Recall                          0.58  ...      0.49\n",
       "Precision                       0.66  ...      0.64\n",
       "F1 Score                        0.62  ...      0.56\n",
       "\n",
       "[5 rows x 6 columns]"
      ]
     },
     "execution_count": 221,
     "metadata": {},
     "output_type": "execute_result"
    }
   ],
   "source": [
    "index=['Accuracy', 'AUC', 'Recall','Precision','F1 Score']\n",
    "data = pd.DataFrame({'Logistic Regression Train':[logistic_train_acc,auc_train_logistic,logistic_train_recall,logistic_train_precision,logistic_train_f1],\n",
    "        'Logistic Regression Test':[logistic_train_acc,auc_train_logistic,logistic_test_recall,logistic_test_precision,logistic_test_f1],\n",
    "       'Logistic Regression Grid Train':[logistic_grid_train_acc,auc_train_logistic_grid,logistic_grid_train_recall,logistic_grid_train_precision,logistic_grid_train_f1],\n",
    "        'Logistic Regression Grid Test':[logistic_grid_test_acc,auc_test_logistic_grid,logistic_grid_test_recall,logistic_grid_test_precision,logistic_grid_test_f1],\n",
    "       'LDA Train':[lda_train_acc,auc_train_lda,lda_train_recall,lda_train_precision,lda_train_f1],\n",
    "        'LDA Test':[lda_test_acc,auc_test_lda,lda_test_recall,lda_test_precision,lda_test_f1]},index=index)\n",
    "round(data,2)"
   ]
  },
  {
   "cell_type": "markdown",
   "id": "25e411d2",
   "metadata": {
    "id": "dlQa_b6F_e7f"
   },
   "source": [
    "ROC curve for the models on training data"
   ]
  },
  {
   "cell_type": "code",
   "execution_count": 222,
   "id": "c061ecfb",
   "metadata": {
    "colab": {
     "base_uri": "https://localhost:8080/",
     "height": 410
    },
    "id": "osBl8gC9-ZCc",
    "outputId": "2c91d7af-e75a-4831-9de3-f5d1ecafca65"
   },
   "outputs": [
    {
     "data": {
      "text/plain": [
       "<matplotlib.legend.Legend at 0x7fe9422c9c50>"
      ]
     },
     "execution_count": 222,
     "metadata": {},
     "output_type": "execute_result"
    },
    {
     "data": {
      "image/png": "[encoded data removed]",
      "text/plain": [
       "<Figure size 720x360 with 1 Axes>"
      ]
     },
     "metadata": {
      "needs_background": "light"
     },
     "output_type": "display_data"
    }
   ],
   "source": [
    "plt.figure(figsize=(10,5))\n",
    "plt.title('ROC curve - Training Data')\n",
    "plt.plot([0, 1], [0, 1], linestyle='--')\n",
    "plt.plot(logistic_train_fpr, logistic_train_tpr,color='red',label=\"Logistic Regression\")\n",
    "plt.plot(logistic_grid_train_fpr, logistic_grid_train_tpr,color='blue',label=\"Logistic Regression Grid\")\n",
    "plt.plot(lda_train_fpr, lda_train_tpr,color='green',label=\"Linear Discriminant Analysis\")\n",
    "plt.xlabel('False Positive Rate')\n",
    "plt.ylabel('True Positive Rate')\n",
    "plt.legend(bbox_to_anchor=(0., 1.02, 1., .102), loc='lower right')"
   ]
  },
  {
   "cell_type": "markdown",
   "id": "0a3ac5cb",
   "metadata": {
    "id": "TQfO_e_d_hZX"
   },
   "source": [
    "ROC curve for the models on test data"
   ]
  },
  {
   "cell_type": "code",
   "execution_count": 223,
   "id": "6faf07d2",
   "metadata": {
    "colab": {
     "base_uri": "https://localhost:8080/",
     "height": 410
    },
    "id": "puXxDC6I_LqD",
    "outputId": "8d115f17-2907-46cc-dd66-9648d2896ad3"
   },
   "outputs": [
    {
     "data": {
      "text/plain": [
       "<matplotlib.legend.Legend at 0x7fe9421f1110>"
      ]
     },
     "execution_count": 223,
     "metadata": {},
     "output_type": "execute_result"
    },
    {
     "data": {
      "image/png": "[encoded data removed]",
      "text/plain": [
       "<Figure size 720x360 with 1 Axes>"
      ]
     },
     "metadata": {
      "needs_background": "light"
     },
     "output_type": "display_data"
    }
   ],
   "source": [
    "plt.figure(figsize=(10,5))\n",
    "plt.title('ROC curve - Test Data')\n",
    "plt.plot([0, 1], [0, 1], linestyle='--')\n",
    "plt.plot(logistic_test_fpr, logistic_test_tpr,color='red',label=\"Logistic Regression\")\n",
    "plt.plot(logistic_grid_test_fpr, logistic_grid_test_tpr,color='blue',label=\"Logistic Regression Grid\")\n",
    "plt.plot(lda_test_fpr, lda_test_tpr,color='green',label=\"Linear Discriminant Analysis\")\n",
    "plt.xlabel('False Positive Rate')\n",
    "plt.ylabel('True Positive Rate')\n",
    "plt.legend(bbox_to_anchor=(0., 1.02, 1., .102), loc='lower right')"
   ]
  },
  {
   "cell_type": "markdown",
   "id": "c85674dc",
   "metadata": {
    "id": "f_R_uoJV_2sB"
   },
   "source": [
    "2.4 Inference: Basis on these predictions, what are the insights and recommendations."
   ]
  },
  {
   "cell_type": "code",
   "execution_count": 223,
   "id": "c0a4f3cb",
   "metadata": {
    "id": "VjRk1B3k_WM4"
   },
   "outputs": [],
   "source": []
  },
  {
   "cell_type": "code",
   "execution_count": null,
   "id": "ea630193",
   "metadata": {},
   "outputs": [],
   "source": [
    "Problem 2: Logistic Regression and LDA\n",
    "\n",
    "You are hired by a tour and travel agency which deals in selling holiday packages. You are provided details of 872 employees of a company. Among these employees, some opted for the package and some didn't. You have to help the company in predicting whether an employee will opt for the package or not on the basis of the information given in the data set. Also, find out the important factors on the basis of which the company will focus on particular employees to sell their packages.\n",
    "\n",
    "df2=pd.read_csv(\"/content/drive/MyDrive/Great Learning/Predictive Modeling/Project/Holiday_Package.csv\")\n",
    "\n",
    "2.1 Data Ingestion: Read the dataset. Do the descriptive statistics and do null value condition check, write an inference on it. Perform Univariate and Bivariate Analysis. Do exploratory data analysis.\n",
    "\n",
    "df2.head()\n",
    "\n",
    "df2.info()\n",
    "\n",
    "df2.dtypes\n",
    "\n",
    "df2.shape\n",
    "\n",
    "df2.isnull().sum()\n",
    "\n",
    "df2.describe()\n",
    "\n",
    "df2.drop([\"Unnamed: 0\"],axis=1,inplace=True)\n",
    "\n",
    "df2.duplicated().sum()\n",
    "\n",
    "df2.describe()\n",
    "\n",
    "df2.shape\n",
    "\n",
    "Univariate Analysis\n",
    "\n",
    "def univariateAnalysis_numeric(column,nbins):\n",
    "    print(\"Description of \" + column)\n",
    "    print(\"----------------------------------------------------------------------------\")\n",
    "    print(df2[column].describe(),end=' ')\n",
    "    \n",
    "    \n",
    "    plt.figure()\n",
    "    print(\"Distribution of \" + column)\n",
    "    print(\"----------------------------------------------------------------------------\")\n",
    "    sns.distplot(df2[column], kde=True);\n",
    "    plt.title(\"Distribution of \" + column,fontsize=10)\n",
    "    plt.show()\n",
    "    \n",
    "    plt.figure()\n",
    "    print(\"BoxPlot of \" + column)\n",
    "    print(\"----------------------------------------------------------------------------\")\n",
    "    ax = sns.boxplot(x=df2[column], orient = \"v\")\n",
    "    plt.title(\"Boxplot of \" + column,fontsize=10)\n",
    "    plt.show()\n",
    "    \n",
    "    plt.figure()\n",
    "    print(\"Histogram of \" + column)\n",
    "    print(\"----------------------------------------------------------------------------\")\n",
    "    ax1 = plt.hist(x=df2[column])\n",
    "    plt.title(\"Histogram of \" + column,fontsize=10)\n",
    "    plt.xlabel(\"\" + column, fontsize=10)\n",
    "    plt.show()\n",
    "\n",
    "df2_num = df2.select_dtypes(include = ['float64', 'int64'])\n",
    "lstnumericcolumns2 = list(df2_num.columns.values)\n",
    "len(lstnumericcolumns2)\n",
    "\n",
    "df2_num.head()\n",
    "\n",
    "df2.skew(axis = 0, skipna = True).sort_values(ascending=False)\n",
    "\n",
    "for x in lstnumericcolumns2:\n",
    "    univariateAnalysis_numeric(x,5)\n",
    "\n",
    "df2.hist(figsize=(12,16),layout=(4,2));\n",
    "\n",
    "plt.title('Countplot of Holiday package')\n",
    "sns.countplot(data = df2, x = 'Holliday_Package')\n",
    "\n",
    "plt.title('Countplot of Foreign')\n",
    "sns.countplot(data = df2, x = 'foreign')\n",
    "\n",
    "Bivariate Analysis\n",
    "\n",
    "corr2 = df2_num.corr(method='pearson')\n",
    "corr2\n",
    "\n",
    "plt.figure(figsize=(10,8))\n",
    "sns.heatmap(corr2, annot=True, fmt = '.2f', cmap = 'Blues')\n",
    "\n",
    "plt.figure(figsize=(10,5))\n",
    "plt.title('Countplot of foreign')\n",
    "sns.countplot(x='foreign',hue='Holliday_Package',data=df2)\n",
    "\n",
    "Multivariate Analysis\n",
    "\n",
    "sns.pairplot(df2, diag_kind='kde')\n",
    "plt.tight_layout()\n",
    "\n",
    "plt.figure(figsize=(15,5))\n",
    "plt.title('Boxplot of foreign')\n",
    "sns.boxplot(data = df2, x='foreign',y='Salary', hue='Holliday_Package')\n",
    "\n",
    "2.2 Do not scale the data. Encode the data (having string values) for Modelling. Data Split: Split the data into train and test (70:30). Apply Logistic Regression and LDA (linear discriminant analysis).\n",
    "\n",
    "for feature in df2.columns: \n",
    "    if df2[feature].dtype == 'object': \n",
    "        print(feature)\n",
    "        print(df2[feature].value_counts())\n",
    "        print('\\n')\n",
    "        \n",
    "\n",
    "count_no = len(df2[df2['Holliday_Package']=='no'])\n",
    "count_yes = len(df2[df2['Holliday_Package']=='yes'])\n",
    "pct_no = count_no / (count_no + count_yes)\n",
    "print ('Percentage of employees who have not opted for the Holiday Package is', pct_no*100)\n",
    "pct_yes = count_yes / (count_no + count_yes)\n",
    "print ('Percentage of employees who have opted for the Holiday Package is', pct_yes*100)\n",
    "\n",
    "df2 = df2.replace({'yes':1,'no':0})\n",
    "df2.head()\n",
    "\n",
    "df2.dtypes\n",
    "\n",
    "X = df2.drop('Holliday_Package', axis=1)\n",
    "y = df2['Holliday_Package']\n",
    "\n",
    "X_train, X_test, y_train, y_test = train_test_split(X, y, test_size=0.30 , random_state=1,stratify=df2['Holliday_Package'])\n",
    "\n",
    "y_train.value_counts(1)\n",
    "\n",
    "y_test.value_counts(1)\n",
    "\n",
    "Logistic Regression\n",
    "\n",
    "logistic_model = LogisticRegression(solver='newton-cg',max_iter=10000,penalty='none',verbose=True,n_jobs=2)\n",
    "logistic_model.fit(X_train, y_train)\n",
    "\n",
    "ytrain_predict_logistic = logistic_model.predict(X_train)\n",
    "ytest_predict_logistic = logistic_model.predict(X_test)\n",
    "\n",
    "ytest_predict_prob_log = logistic_model.predict_proba(X_test)\n",
    "pd.DataFrame(ytest_predict_prob_log).head()\n",
    "\n",
    "for idx, col_name in enumerate(X_train.columns):\n",
    "    print(\"The coefficient for {} is {}\".format(col_name, logistic_model.coef_[0][idx]))\n",
    "\n",
    "Applying GridSearchCV for Logistic Regression\n",
    "\n",
    "param_grid_logistic = {\n",
    "    'penalty': ['l2','none'],\n",
    "    'solver': ['sag','lbfgs','liblinear','saga'],\n",
    "    'tol': [0.0001,0.00001]\n",
    "}\n",
    "\n",
    "logistic = LogisticRegression(max_iter=10000,n_jobs=2)\n",
    "\n",
    "grid_search_logistic = GridSearchCV(estimator = logistic, param_grid = param_grid_logistic, cv = 3,n_jobs=-1,scoring='f1')\n",
    "\n",
    "grid_search_logistic.fit(X_train, y_train)\n",
    "print(grid_search_logistic.best_params_)\n",
    "best_grid_logistic = grid_search_logistic.best_estimator_\n",
    "best_grid_logistic\n",
    "\n",
    "Prediction on the training set\n",
    "\n",
    "ytrain_predict_grid = best_grid_logistic.predict(X_train)\n",
    "ytest_predict_grid = best_grid_logistic.predict(X_test)\n",
    "\n",
    "ytest_predict_prob=best_grid_logistic.predict_proba(X_test)\n",
    "pd.DataFrame(ytest_predict_prob).head()\n",
    "\n",
    "for idx, col_name in enumerate(X_train.columns):\n",
    "    print(\"The coefficient for {} is {}\".format(col_name, best_grid_logistic.coef_[0][idx]))\n",
    "\n",
    "Linear Discriminant Analysis\n",
    "\n",
    "lda_model = LinearDiscriminantAnalysis(n_components = None, priors = None, shrinkage = None, solver='svd',store_covariance = False, tol = 0.0001)\n",
    "lda_model.fit(X_train, y_train)\n",
    "lda_model\n",
    "\n",
    "ytrain_predict_lda = lda_model.predict(X_train)\n",
    "ytest_predict_lda = lda_model.predict(X_test)\n",
    "\n",
    "ytest_predict_prob_lda = lda_model.predict_proba(X_test)\n",
    "pd.DataFrame(ytest_predict_prob_lda).head()\n",
    "\n",
    "for idx, col_name in enumerate(X_train.columns):\n",
    "    print(\"The coefficient for {} is {}\".format(col_name, lda_model.coef_[0][idx]))\n",
    "\n",
    "2.3 Performance Metrics: Check the performance of Predictions on Train and Test sets using Accuracy, Confusion Matrix, Plot ROC curve and get ROC_AUC score for each model Final Model: Compare both the models and write inference which model is best/optimized.\n",
    "\n",
    "Logistic Regression\n",
    "\n",
    "Training Data\n",
    "\n",
    "logistic_train_acc = logistic_model.score(X_train, y_train)\n",
    "logistic_train_acc\n",
    "\n",
    "AUC and ROC for the training data\n",
    "\n",
    "probs_logistic = logistic_model.predict_proba(X_train)\n",
    "probs_logistic = probs_logistic[:, 1]\n",
    "auc_train_logistic = roc_auc_score(y_train, probs_logistic)\n",
    "print('AUC: %.3f' % auc_train_logistic)\n",
    "logistic_train_fpr, logistic_train_tpr, logistic_train_thresholds = roc_curve(y_train, probs_logistic)\n",
    "plt.title('Logistic Regression ROC curve - Training Data')\n",
    "plt.plot([0, 1], [0, 1], linestyle='--')\n",
    "plt.plot(logistic_train_fpr, logistic_train_tpr)\n",
    "plt.show()\n",
    "\n",
    "confusion_matrix(y_train, ytrain_predict_logistic)\n",
    "\n",
    "plot_confusion_matrix(logistic_model,X_train,y_train);\n",
    "\n",
    "print(classification_report(y_train, ytrain_predict_logistic))\n",
    "\n",
    "Test Data\n",
    "\n",
    "logistic_test_acc = logistic_model.score(X_test, y_test)\n",
    "logistic_test_acc\n",
    "\n",
    "AUC and ROC for the test data\n",
    "\n",
    "probs_logistic = logistic_model.predict_proba(X_test)\n",
    "probs_logistic = probs_logistic[:, 1]\n",
    "auc_test_logistic = roc_auc_score(y_test, probs_logistic)\n",
    "print('AUC: %.3f' % auc_test_logistic)\n",
    "logistic_test_fpr, logistic_test_tpr, logistic_test_thresholds = roc_curve(y_test, probs_logistic)\n",
    "plt.title('Logistic Regression ROC curve - Test Data')\n",
    "plt.plot([0, 1], [0, 1], linestyle='--')\n",
    "plt.plot(logistic_test_fpr, logistic_test_tpr)\n",
    "plt.show()\n",
    "\n",
    "confusion_matrix(y_test, ytest_predict_logistic)\n",
    "\n",
    "plot_confusion_matrix(logistic_model,X_test,y_test);\n",
    "\n",
    "print(classification_report(y_test, ytest_predict_logistic))\n",
    "\n",
    "Applying GridSearchCV for Logistic Regression\n",
    "\n",
    "Training Data\n",
    "\n",
    "logistic_grid_train_acc = best_grid_logistic.score(X_train, y_train)\n",
    "logistic_grid_train_acc\n",
    "\n",
    "AUC and ROC for the training data\n",
    "\n",
    "probs_logistic_grid = grid_search_logistic.predict_proba(X_train)\n",
    "probs_logistic_grid = probs_logistic_grid[:, 1]\n",
    "auc_train_logistic_grid = roc_auc_score(y_train, probs_logistic_grid)\n",
    "print('AUC: %.3f' % auc_train_logistic_grid)\n",
    "logistic_grid_train_fpr, logistic_grid_train_tpr, logistic_grid_train_thresholds = roc_curve(y_train, probs_logistic_grid)\n",
    "plt.title('Logistic Regression using GridSearchCV ROC curve - Training Data')\n",
    "plt.plot([0, 1], [0, 1], linestyle='--')\n",
    "plt.plot(logistic_grid_train_fpr, logistic_grid_train_tpr)\n",
    "plt.show()\n",
    "\n",
    "confusion_matrix(y_train, ytrain_predict_grid)\n",
    "\n",
    "plot_confusion_matrix(best_grid_logistic,X_train,y_train)\n",
    "\n",
    "print(classification_report(y_train, ytrain_predict_grid))\n",
    "\n",
    "Test Data\n",
    "\n",
    "logistic_grid_test_acc = best_grid_logistic.score(X_test, y_test)\n",
    "logistic_grid_test_acc\n",
    "\n",
    "AUC and ROC for the test data\n",
    "\n",
    "probs_logistic_grid = grid_search_logistic.predict_proba(X_test)\n",
    "probs_logistic_grid = probs_logistic_grid[:, 1]\n",
    "auc_test_logistic_grid = roc_auc_score(y_test, probs_logistic_grid)\n",
    "print('AUC: %.3f' % auc_test_logistic_grid)\n",
    "logistic_grid_test_fpr, logistic_grid_test_tpr, logistic_grid_test_thresholds = roc_curve(y_test, probs_logistic_grid)\n",
    "plt.title('Logistic Regression using GridSearchCV ROC curve - Test Data')\n",
    "plt.plot([0, 1], [0, 1], linestyle='--')\n",
    "plt.plot(logistic_grid_test_fpr, logistic_grid_test_tpr)\n",
    "plt.show()\n",
    "\n",
    "confusion_matrix(y_test, ytest_predict_grid)\n",
    "\n",
    "plot_confusion_matrix(best_grid_logistic,X_test,y_test)\n",
    "\n",
    "print(classification_report(y_test, ytest_predict_grid))\n",
    "\n",
    "Linear Discriminant Analysis\n",
    "\n",
    "Training Data\n",
    "\n",
    "lda_train_acc = lda_model.score(X_train, y_train)\n",
    "lda_train_acc\n",
    "\n",
    "probs_lda = lda_model.predict_proba(X_train)\n",
    "probs_lda = probs_lda[:, 1]\n",
    "auc_train_lda = roc_auc_score(y_train, probs_lda)\n",
    "print('AUC: %.3f' % auc_train_lda)\n",
    "lda_train_fpr, lda_train_tpr, lda_train_thresholds = roc_curve(y_train, probs_lda)\n",
    "plt.title('Linear Discriminant Analysis ROC curve - Training Data')\n",
    "plt.plot([0, 1], [0, 1], linestyle='--')\n",
    "plt.plot(lda_train_fpr, lda_train_tpr)\n",
    "plt.show()\n",
    "\n",
    "confusion_matrix(y_train, ytrain_predict_lda)\n",
    "\n",
    "plot_confusion_matrix(lda_model,X_train,y_train)\n",
    "\n",
    "print(classification_report(y_train, ytrain_predict_lda))\n",
    "\n",
    "Test Data\n",
    "\n",
    "lda_test_acc = lda_model.score(X_test, y_test)\n",
    "lda_test_acc\n",
    "\n",
    "probs_lda = lda_model.predict_proba(X_test)\n",
    "probs_lda = probs_lda[:, 1]\n",
    "auc_test_lda = roc_auc_score(y_test, probs_lda)\n",
    "print('AUC: %.3f' % auc_test_lda)\n",
    "lda_test_fpr, lda_test_tpr, lda_test_thresholds = roc_curve(y_test, probs_lda)\n",
    "plt.title('Linear Discriminant Analysis ROC curve - Test Data')\n",
    "plt.plot([0, 1], [0, 1], linestyle='--')\n",
    "plt.plot(lda_test_fpr, lda_test_tpr)\n",
    "plt.show()\n",
    "\n",
    "confusion_matrix(y_test, ytest_predict_lda)\n",
    "\n",
    "plot_confusion_matrix(lda_model,X_test,y_test)\n",
    "\n",
    "print(classification_report(y_test, ytest_predict_lda))\n",
    "\n",
    "Compare all the models\n",
    "\n",
    "logistic_metrics=classification_report(y_train, ytrain_predict_logistic,output_dict=True)\n",
    "df=pd.DataFrame(logistic_metrics).transpose()\n",
    "logistic_train_f1=round(df.loc[\"1\"][2],2)\n",
    "logistic_train_recall=round(df.loc[\"1\"][1],2)\n",
    "logistic_train_precision=round(df.loc[\"1\"][0],2)\n",
    "print ('logistic_train_precision ',logistic_train_precision)\n",
    "print ('logistic_train_recall ',logistic_train_recall)\n",
    "print ('logistic_train_f1 ',logistic_train_f1)\n",
    "logistic_test_metrics=classification_report(y_test, ytest_predict_logistic,output_dict=True)\n",
    "df=pd.DataFrame(logistic_test_metrics).transpose()\n",
    "logistic_test_precision=round(df.loc[\"1\"][0],2)\n",
    "logistic_test_recall=round(df.loc[\"1\"][1],2)\n",
    "logistic_test_f1=round(df.loc[\"1\"][2],2)\n",
    "print ('logistic_test_precision ',logistic_test_precision)\n",
    "print ('logistic_test_recall ',logistic_test_recall)\n",
    "print ('logistic_test_f1 ',logistic_test_f1)\n",
    "\n",
    "logistic_grid_metrics=classification_report(y_train, ytrain_predict_grid,output_dict=True)\n",
    "df=pd.DataFrame(logistic_grid_metrics).transpose()\n",
    "logistic_grid_train_f1=round(df.loc[\"1\"][2],2)\n",
    "logistic_grid_train_recall=round(df.loc[\"1\"][1],2)\n",
    "logistic_grid_train_precision=round(df.loc[\"1\"][0],2)\n",
    "print ('logistic_grid_train_precision ',logistic_grid_train_precision)\n",
    "print ('logistic_grid_train_recall ',logistic_grid_train_recall)\n",
    "print ('logistic_grid_train_f1 ',logistic_grid_train_f1)\n",
    "logistic_grid_test_metrics=classification_report(y_test, ytest_predict_grid,output_dict=True)\n",
    "df=pd.DataFrame(logistic_grid_test_metrics).transpose()\n",
    "logistic_grid_test_precision=round(df.loc[\"1\"][0],2)\n",
    "logistic_grid_test_recall=round(df.loc[\"1\"][1],2)\n",
    "logistic_grid_test_f1=round(df.loc[\"1\"][2],2)\n",
    "print ('logistic_grid_test_precision ',logistic_grid_test_precision)\n",
    "print ('logistic_grid_test_recall ',logistic_grid_test_recall)\n",
    "print ('logistic_grid_test_f1 ',logistic_grid_test_f1)\n",
    "\n",
    "lda_metrics=classification_report(y_train, ytrain_predict_lda,output_dict=True)\n",
    "df=pd.DataFrame(lda_metrics).transpose()\n",
    "lda_train_f1=round(df.loc[\"1\"][2],2)\n",
    "lda_train_recall=round(df.loc[\"1\"][1],2)\n",
    "lda_train_precision=round(df.loc[\"1\"][0],2)\n",
    "print ('lda_train_precision ',lda_train_precision)\n",
    "print ('lda_train_recall ',lda_train_recall)\n",
    "print ('lda_train_f1 ',lda_train_f1)\n",
    "lda_test_metrics=classification_report(y_test, ytest_predict_lda,output_dict=True)\n",
    "df=pd.DataFrame(lda_test_metrics).transpose()\n",
    "lda_test_precision=round(df.loc[\"1\"][0],2)\n",
    "lda_test_recall=round(df.loc[\"1\"][1],2)\n",
    "lda_test_f1=round(df.loc[\"1\"][2],2)\n",
    "print ('lda_test_precision ',lda_test_precision)\n",
    "print ('lda_test_recall ',lda_test_recall)\n",
    "print ('lda_test_f1 ',lda_test_f1)\n",
    "\n",
    "index=['Accuracy', 'AUC', 'Recall','Precision','F1 Score']\n",
    "data = pd.DataFrame({'Logistic Regression Train':[logistic_train_acc,auc_train_logistic,logistic_train_recall,logistic_train_precision,logistic_train_f1],\n",
    "        'Logistic Regression Test':[logistic_train_acc,auc_train_logistic,logistic_test_recall,logistic_test_precision,logistic_test_f1],\n",
    "       'Logistic Regression Grid Train':[logistic_grid_train_acc,auc_train_logistic_grid,logistic_grid_train_recall,logistic_grid_train_precision,logistic_grid_train_f1],\n",
    "        'Logistic Regression Grid Test':[logistic_grid_test_acc,auc_test_logistic_grid,logistic_grid_test_recall,logistic_grid_test_precision,logistic_grid_test_f1],\n",
    "       'LDA Train':[lda_train_acc,auc_train_lda,lda_train_recall,lda_train_precision,lda_train_f1],\n",
    "        'LDA Test':[lda_test_acc,auc_test_lda,lda_test_recall,lda_test_precision,lda_test_f1]},index=index)\n",
    "round(data,2)\n",
    "\n",
    "ROC curve for the models on training data\n",
    "\n",
    "plt.figure(figsize=(10,5))\n",
    "plt.title('ROC curve - Training Data')\n",
    "plt.plot([0, 1], [0, 1], linestyle='--')\n",
    "plt.plot(logistic_train_fpr, logistic_train_tpr,color='red',label=\"Logistic Regression\")\n",
    "plt.plot(logistic_grid_train_fpr, logistic_grid_train_tpr,color='blue',label=\"Logistic Regression Grid\")\n",
    "plt.plot(lda_train_fpr, lda_train_tpr,color='green',label=\"Linear Discriminant Analysis\")\n",
    "plt.xlabel('False Positive Rate')\n",
    "plt.ylabel('True Positive Rate')\n",
    "plt.legend(bbox_to_anchor=(0., 1.02, 1., .102), loc='lower right')\n",
    "\n",
    "ROC curve for the models on test data\n",
    "\n",
    "plt.figure(figsize=(10,5))\n",
    "plt.title('ROC curve - Test Data')\n",
    "plt.plot([0, 1], [0, 1], linestyle='--')\n",
    "plt.plot(logistic_test_fpr, logistic_test_tpr,color='red',label=\"Logistic Regression\")\n",
    "plt.plot(logistic_grid_test_fpr, logistic_grid_test_tpr,color='blue',label=\"Logistic Regression Grid\")\n",
    "plt.plot(lda_test_fpr, lda_test_tpr,color='green',label=\"Linear Discriminant Analysis\")\n",
    "plt.xlabel('False Positive Rate')\n",
    "plt.ylabel('True Positive Rate')\n",
    "plt.legend(bbox_to_anchor=(0., 1.02, 1., .102), loc='lower right')\n",
    "\n",
    "2.4 Inference: Basis on these predictions, what are the insights and recommendations.\n",
    "\n"
   ]
  }
 ],
 "metadata": {
  "kernelspec": {
   "display_name": "Python 3",
   "language": "python",
   "name": "python3"
  },
  "language_info": {
   "codemirror_mode": {
    "name": "ipython",
    "version": 3
   },
   "file_extension": ".py",
   "mimetype": "text/x-python",
   "name": "python",
   "nbconvert_exporter": "python",
   "pygments_lexer": "ipython3",
   "version": "3.8.8"
  }
 },
 "nbformat": 4,
 "nbformat_minor": 5
}
